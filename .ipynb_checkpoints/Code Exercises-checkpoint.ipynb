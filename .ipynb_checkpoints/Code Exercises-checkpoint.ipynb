{
 "cells": [
  {
   "cell_type": "markdown",
   "metadata": {},
   "source": [
    "1)Write a function that accepts two integers and returns True or false if the second is a multiple of the first"
   ]
  },
  {
   "cell_type": "code",
   "execution_count": 8,
   "metadata": {},
   "outputs": [],
   "source": [
    "#1)\n",
    "def is_multiple(n, m):\n",
    "   if type(n) == int and type(m) ==int:\n",
    "       if n % m == 0:\n",
    "           return True\n",
    "       else:\n",
    "           return False\n",
    "   else:\n",
    "       print('Enter an integer')"
   ]
  },
  {
   "cell_type": "code",
   "execution_count": 9,
   "metadata": {},
   "outputs": [
    {
     "data": {
      "text/plain": [
       "True"
      ]
     },
     "execution_count": 9,
     "metadata": {},
     "output_type": "execute_result"
    }
   ],
   "source": [
    "is_multiple(8, 2)"
   ]
  },
  {
   "cell_type": "code",
   "execution_count": 10,
   "metadata": {},
   "outputs": [
    {
     "name": "stdout",
     "output_type": "stream",
     "text": [
      "Enter an integer\n"
     ]
    }
   ],
   "source": [
    "is_multiple(8.4, 2.2)"
   ]
  },
  {
   "cell_type": "code",
   "execution_count": 11,
   "metadata": {},
   "outputs": [
    {
     "data": {
      "text/plain": [
       "False"
      ]
     },
     "execution_count": 11,
     "metadata": {},
     "output_type": "execute_result"
    }
   ],
   "source": [
    "is_multiple(47, 7)"
   ]
  },
  {
   "cell_type": "markdown",
   "metadata": {},
   "source": [
    "2) Write a function that examines if a number is even or not"
   ]
  },
  {
   "cell_type": "code",
   "execution_count": 12,
   "metadata": {},
   "outputs": [],
   "source": [
    "def is_even(n):\n",
    "    if (-1)**n == 1:\n",
    "        return True\n",
    "    return False"
   ]
  },
  {
   "cell_type": "code",
   "execution_count": 13,
   "metadata": {},
   "outputs": [
    {
     "data": {
      "text/plain": [
       "False"
      ]
     },
     "execution_count": 13,
     "metadata": {},
     "output_type": "execute_result"
    }
   ],
   "source": [
    "is_even(7)"
   ]
  },
  {
   "cell_type": "code",
   "execution_count": 14,
   "metadata": {},
   "outputs": [
    {
     "data": {
      "text/plain": [
       "True"
      ]
     },
     "execution_count": 14,
     "metadata": {},
     "output_type": "execute_result"
    }
   ],
   "source": [
    "is_even(8)"
   ]
  },
  {
   "cell_type": "markdown",
   "metadata": {},
   "source": [
    "3) Write a function that returns the min and max from a list of numbers"
   ]
  },
  {
   "cell_type": "code",
   "execution_count": 17,
   "metadata": {},
   "outputs": [],
   "source": [
    "def min_max(*args):\n",
    "    small = big = args[0]\n",
    "    for i in args[1:]:\n",
    "        if i < small:\n",
    "            small = i\n",
    "        elif i > big:\n",
    "            big = i\n",
    "    return (small, big) \n",
    "\n"
   ]
  },
  {
   "cell_type": "code",
   "execution_count": 18,
   "metadata": {},
   "outputs": [
    {
     "data": {
      "text/plain": [
       "(4, 8)"
      ]
     },
     "execution_count": 18,
     "metadata": {},
     "output_type": "execute_result"
    }
   ],
   "source": [
    "min_max(4,5,6,7,8)"
   ]
  },
  {
   "cell_type": "code",
   "execution_count": 19,
   "metadata": {},
   "outputs": [
    {
     "data": {
      "text/plain": [
       "(1, 8)"
      ]
     },
     "execution_count": 19,
     "metadata": {},
     "output_type": "execute_result"
    }
   ],
   "source": [
    "min_max(7,8,2,1,5)"
   ]
  },
  {
   "cell_type": "markdown",
   "metadata": {},
   "source": [
    "4) Write a function that returns the sum of squares of all numbers just before the input"
   ]
  },
  {
   "cell_type": "code",
   "execution_count": 20,
   "metadata": {},
   "outputs": [],
   "source": [
    "def sumsquares(n):\n",
    "   sumsq = sum(i*i for i in range(1,n))\n",
    "   return sumsq"
   ]
  },
  {
   "cell_type": "code",
   "execution_count": 21,
   "metadata": {},
   "outputs": [
    {
     "data": {
      "text/plain": [
       "30"
      ]
     },
     "execution_count": 21,
     "metadata": {},
     "output_type": "execute_result"
    }
   ],
   "source": [
    "sumsquares(5)"
   ]
  },
  {
   "cell_type": "code",
   "execution_count": 22,
   "metadata": {},
   "outputs": [
    {
     "data": {
      "text/plain": [
       "8555"
      ]
     },
     "execution_count": 22,
     "metadata": {},
     "output_type": "execute_result"
    }
   ],
   "source": [
    "sumsquares(30)"
   ]
  },
  {
   "cell_type": "markdown",
   "metadata": {},
   "source": [
    "5) Write a function that returns the sum of squares of all numbers up to and including the input"
   ]
  },
  {
   "cell_type": "code",
   "execution_count": 23,
   "metadata": {},
   "outputs": [],
   "source": [
    "def sum_squares(n):\n",
    "   sumsq = sum(i*i for i in range(n+1))\n",
    "   return sumsq"
   ]
  },
  {
   "cell_type": "code",
   "execution_count": 24,
   "metadata": {},
   "outputs": [
    {
     "data": {
      "text/plain": [
       "55"
      ]
     },
     "execution_count": 24,
     "metadata": {},
     "output_type": "execute_result"
    }
   ],
   "source": [
    "sum_squares(5)"
   ]
  },
  {
   "cell_type": "markdown",
   "metadata": {},
   "source": [
    "6 & 7     return sum of odd squares"
   ]
  },
  {
   "cell_type": "code",
   "execution_count": 26,
   "metadata": {},
   "outputs": [],
   "source": [
    "\n",
    "def posoddsquares(n):\n",
    "   possq = sum(i*i for i in range(1,n) if i % 2 != 0)\n",
    "   return possq\n",
    "\n",
    "\n"
   ]
  },
  {
   "cell_type": "code",
   "execution_count": 27,
   "metadata": {},
   "outputs": [
    {
     "data": {
      "text/plain": [
       "455"
      ]
     },
     "execution_count": 27,
     "metadata": {},
     "output_type": "execute_result"
    }
   ],
   "source": [
    "posoddsquares(15)"
   ]
  },
  {
   "cell_type": "markdown",
   "metadata": {},
   "source": [
    "Dynamic Programming (Recursion and memoization"
   ]
  },
  {
   "cell_type": "code",
   "execution_count": 8,
   "metadata": {},
   "outputs": [],
   "source": [
    "#method 1\n",
    "def fibno(n, memo):\n",
    "    if memo[n] is not None:\n",
    "        return memo[n]\n",
    "    if n == 1 or n == 2:\n",
    "        result = 1\n",
    "    else:\n",
    "        result = fibno(n-1, memo) +fibno(n-2, memo)\n",
    "    memo[n] = result\n",
    "    return result\n",
    "\n",
    "def fib_memo(n):\n",
    "    memo = [None] *(n+1)\n",
    "    return fibno(n, memo)"
   ]
  },
  {
   "cell_type": "code",
   "execution_count": 9,
   "metadata": {},
   "outputs": [
    {
     "data": {
      "text/plain": [
       "8"
      ]
     },
     "execution_count": 9,
     "metadata": {},
     "output_type": "execute_result"
    }
   ],
   "source": [
    "fib_memo(6)\n"
   ]
  },
  {
   "cell_type": "code",
   "execution_count": 10,
   "metadata": {},
   "outputs": [],
   "source": [
    "#method 2\n",
    "def fibno(n, memo= {1:1, 2:1}):\n",
    "    if n in memo:\n",
    "        return memo[n]\n",
    "    \n",
    "    else:\n",
    "        result = fibno(n-1, memo) +fibno(n-2, memo)\n",
    "    memo[n] = result\n",
    "    return result\n",
    "\n"
   ]
  },
  {
   "cell_type": "code",
   "execution_count": 11,
   "metadata": {},
   "outputs": [
    {
     "data": {
      "text/plain": [
       "8"
      ]
     },
     "execution_count": 11,
     "metadata": {},
     "output_type": "execute_result"
    }
   ],
   "source": [
    "fibno(6)"
   ]
  },
  {
   "cell_type": "code",
   "execution_count": 64,
   "metadata": {},
   "outputs": [],
   "source": [
    "#method 3\n",
    "def fiban(n):\n",
    "    firsttwo = [1,1]\n",
    "    counter = 3\n",
    "    while counter <= n:\n",
    "        nextno = firsttwo[0] + firsttwo[1]\n",
    "        firsttwo[0] =firsttwo[1]\n",
    "        firsttwo[1] = nextno\n",
    "        counter+=1\n",
    "    return firsttwo[1] if n>1 else 0"
   ]
  },
  {
   "cell_type": "code",
   "execution_count": 65,
   "metadata": {},
   "outputs": [
    {
     "data": {
      "text/plain": [
       "8"
      ]
     },
     "execution_count": 65,
     "metadata": {},
     "output_type": "execute_result"
    }
   ],
   "source": [
    "fiban(6)"
   ]
  },
  {
   "cell_type": "code",
   "execution_count": 14,
   "metadata": {},
   "outputs": [
    {
     "data": {
      "text/plain": [
       "1"
      ]
     },
     "execution_count": 14,
     "metadata": {},
     "output_type": "execute_result"
    }
   ],
   "source": [
    "fiban(1)"
   ]
  },
  {
   "cell_type": "code",
   "execution_count": 16,
   "metadata": {},
   "outputs": [
    {
     "data": {
      "text/plain": [
       "2178309"
      ]
     },
     "execution_count": 16,
     "metadata": {},
     "output_type": "execute_result"
    }
   ],
   "source": [
    "fiban(32)"
   ]
  },
  {
   "cell_type": "markdown",
   "metadata": {},
   "source": [
    "Write a function that takes in a non-empty array of distinct integers and an integer representing a target sum. If any two numbers in the input array sum up to the target sum, the function should return them in an array, else it should return an empty array. "
   ]
  },
  {
   "cell_type": "code",
   "execution_count": 53,
   "metadata": {},
   "outputs": [],
   "source": [
    "def twonumsum(array, targetsum):\n",
    "    s = []\n",
    "    if len(array) > 0:\n",
    "        for i, num in enumerate(array):\n",
    "            complement = targetsum - num\n",
    "            if complement in array[i+1:] and complement != num:\n",
    "                s.append(num)\n",
    "                s.append(complement)\n",
    "                break\n",
    "            else:\n",
    "                s = []\n",
    "    else:\n",
    "        s = []\n",
    "    return s\n",
    "    "
   ]
  },
  {
   "cell_type": "code",
   "execution_count": 54,
   "metadata": {},
   "outputs": [
    {
     "data": {
      "text/plain": [
       "[7, 8]"
      ]
     },
     "execution_count": 54,
     "metadata": {},
     "output_type": "execute_result"
    }
   ],
   "source": [
    "twonumsum([2,4,6,7,8,3], 15)"
   ]
  },
  {
   "cell_type": "markdown",
   "metadata": {},
   "source": [
    "Given two non-empty array of integers, write a function that determines whether the second array is a subsequence of the first one"
   ]
  },
  {
   "cell_type": "code",
   "execution_count": 39,
   "metadata": {},
   "outputs": [],
   "source": [
    "def validsubsequence(array, sequence):\n",
    "    idx = 0\n",
    "    for i in array:\n",
    "        if sequence[idx] == i:\n",
    "            idx+=1\n",
    "        if idx == len(sequence):\n",
    "            break\n",
    "    return idx == len(sequence)\n",
    "    "
   ]
  },
  {
   "cell_type": "code",
   "execution_count": 42,
   "metadata": {},
   "outputs": [
    {
     "data": {
      "text/plain": [
       "True"
      ]
     },
     "execution_count": 42,
     "metadata": {},
     "output_type": "execute_result"
    }
   ],
   "source": [
    "array = [5,1,22,25,6,-1,8,10]\n",
    "sequence = [1,6,-1,10]\n",
    "validsubsequence(array, sequence)"
   ]
  },
  {
   "cell_type": "markdown",
   "metadata": {},
   "source": [
    "Given a string, find the length of the longest substring without repeating characters"
   ]
  },
  {
   "cell_type": "code",
   "execution_count": 376,
   "metadata": {},
   "outputs": [],
   "source": [
    "def lengthOfLongestString(s):\n",
    "    ans = 0\n",
    "    sub = ''\n",
    "    for char in s:\n",
    "        if char not in sub:\n",
    "            sub += char\n",
    "            ans = max(ans, len(sub))\n",
    "        else:\n",
    "            cut = sub.index(char)\n",
    "            sub = sub[cut+1:] + char\n",
    "    return ans, sub\n"
   ]
  },
  {
   "cell_type": "code",
   "execution_count": 377,
   "metadata": {},
   "outputs": [
    {
     "data": {
      "text/plain": [
       "(3, 'vdf')"
      ]
     },
     "execution_count": 377,
     "metadata": {},
     "output_type": "execute_result"
    }
   ],
   "source": [
    "s = 'dvdf'\n",
    "\n",
    "lengthOfLongestString(s)\n",
    "#s[::-1]"
   ]
  },
  {
   "cell_type": "code",
   "execution_count": 53,
   "metadata": {},
   "outputs": [
    {
     "data": {
      "text/plain": [
       "1"
      ]
     },
     "execution_count": 53,
     "metadata": {},
     "output_type": "execute_result"
    }
   ],
   "source": [
    "a =[0]\n",
    "len(a)"
   ]
  },
  {
   "cell_type": "code",
   "execution_count": 56,
   "metadata": {},
   "outputs": [
    {
     "name": "stdout",
     "output_type": "stream",
     "text": [
      "b\n",
      "ba\n",
      "bab\n",
      "baba\n",
      "babad\n",
      "a\n",
      "ab\n",
      "aba\n",
      "abad\n",
      "b\n",
      "ba\n",
      "bad\n",
      "a\n",
      "ad\n",
      "d\n"
     ]
    }
   ],
   "source": [
    "s = \"babad\"\n",
    "for i in range (len(s)):\n",
    "    for j in range(i+1, len(s)+1):\n",
    "        a = s[i:j]\n",
    "        print (a)\n"
   ]
  },
  {
   "cell_type": "markdown",
   "metadata": {},
   "source": [
    "Given a string, find the longest palindromic substring "
   ]
  },
  {
   "cell_type": "code",
   "execution_count": 58,
   "metadata": {},
   "outputs": [],
   "source": [
    "def longestpalindrome(s):\n",
    "    ans = ''\n",
    "    if s ==s[::-1]:\n",
    "        return s\n",
    "   \n",
    "    else:\n",
    "        for i in range(len(s)):\n",
    "            for j in range(i+1, len(s)+1):\n",
    "                a =s[i:j]\n",
    "                if s[i:j] == a[::-1]:\n",
    "                    if len(ans) < len(a):\n",
    "                        ans = a\n",
    "    return ans"
   ]
  },
  {
   "cell_type": "code",
   "execution_count": 60,
   "metadata": {},
   "outputs": [
    {
     "data": {
      "text/plain": [
       "'abba'"
      ]
     },
     "execution_count": 60,
     "metadata": {},
     "output_type": "execute_result"
    }
   ],
   "source": [
    "b = ' abbaad'\n",
    "longestpalindrome(b)"
   ]
  },
  {
   "cell_type": "markdown",
   "metadata": {},
   "source": [
    "Sliding Window Problem"
   ]
  },
  {
   "cell_type": "code",
   "execution_count": 383,
   "metadata": {},
   "outputs": [],
   "source": [
    "def maxsumsubarray(array, n):\n",
    "    if len(array) < n:\n",
    "        return None\n",
    "    maxsum = 0\n",
    "#     for i in range(n):\n",
    "#         maxsum+=array[i]\n",
    "    p1 = 0\n",
    "    p2 = n\n",
    "    tempsum = maxsum\n",
    "    \n",
    "    while p2 <= len(array):\n",
    "        tempsum = sum(array[p1:p2])\n",
    "        maxsum = max(maxsum, tempsum)\n",
    "        p1+=1\n",
    "        p2+=1\n",
    "    return maxsum\n",
    "        \n",
    "        \n",
    "        "
   ]
  },
  {
   "cell_type": "code",
   "execution_count": 385,
   "metadata": {},
   "outputs": [
    {
     "data": {
      "text/plain": [
       "36"
      ]
     },
     "execution_count": 385,
     "metadata": {},
     "output_type": "execute_result"
    }
   ],
   "source": [
    "p = [2,4,6,8,3,6,8,10,12,14,7]\n",
    "g = [6,2,1,5,8]\n",
    "#p =[1,2,3,1]\n",
    "n = 3\n",
    "maxsumsubarray(p, n)"
   ]
  },
  {
   "cell_type": "code",
   "execution_count": 68,
   "metadata": {},
   "outputs": [
    {
     "name": "stdout",
     "output_type": "stream",
     "text": [
      "0\n",
      "1\n",
      "2\n"
     ]
    }
   ],
   "source": [
    "for i in range(3):\n",
    "    print(i)"
   ]
  },
  {
   "cell_type": "markdown",
   "metadata": {},
   "source": [
    "**Implementing linkedlist in python**"
   ]
  },
  {
   "cell_type": "code",
   "execution_count": 124,
   "metadata": {},
   "outputs": [],
   "source": [
    "class Node:\n",
    "    def __init__(self, data = None, next=None):\n",
    "        self.data = data\n",
    "        self.next = next\n",
    "\n",
    "class LinkedList:\n",
    "    def __init__(self):\n",
    "        self.head = None\n",
    "    \n",
    "    def insert_at_beginning(self, data):\n",
    "        node = Node(data, self.head)\n",
    "        self.head = node\n",
    "        \n",
    "    def print(self):\n",
    "        if self.head is None:\n",
    "            print(\"Linked list is empty\")\n",
    "            return\n",
    "        \n",
    "        itr = self.head\n",
    "        lstr = ''\n",
    "        while itr:\n",
    "            lstr += str(itr.data) +'-->'\n",
    "            itr = itr.next\n",
    "            \n",
    "        print(lstr)\n",
    "        \n",
    "        \n",
    "    def insert_at_end(self, data):\n",
    "        if self.head is None:\n",
    "            self.head = Node(data, None)\n",
    "            return\n",
    "        \n",
    "        itr = self.head\n",
    "        while itr.next:\n",
    "            itr = itr.next\n",
    "        itr.next = Node(data, None)\n",
    "        \n",
    "    \n",
    "    def insert_values(self, data_list):\n",
    "        self.head = None\n",
    "        for data in data_list:\n",
    "            self.insert_at_end(data)\n",
    "            \n",
    "    def get_length(self):\n",
    "        count = 0\n",
    "        itr = self.head\n",
    "        while itr:\n",
    "            count+=1\n",
    "            itr = itr.next\n",
    "        return count\n",
    "    \n",
    "    \n",
    "    def remove_at(self, index):\n",
    "        if index<0 or index>=self.get_length():\n",
    "            raise Exception(\"Invalid index\")\n",
    "            \n",
    "        if index ==0:\n",
    "            self.head = self.head.next\n",
    "            return\n",
    "        \n",
    "        count = 0\n",
    "        itr = self.head\n",
    "        while itr:\n",
    "            if count == index-1:\n",
    "                itr.next = itr.next.next\n",
    "                break\n",
    "            itr = itr.next\n",
    "            count += 1\n",
    "    def insert_at(self, index, data):\n",
    "        if index<0 or index>=self.get_length():\n",
    "            raise Exception(\"Invalid index\") \n",
    "            \n",
    "        if index == 0:\n",
    "            self.insert_at_beginning(data)\n",
    "            return\n",
    "        \n",
    "        count = 0\n",
    "        itr = self.head\n",
    "        while itr:\n",
    "            if count == index-1:\n",
    "                node = Node(data, itr.next)\n",
    "                itr.next = node\n",
    "                break\n",
    "            itr = itr.next\n",
    "            count+=1"
   ]
  },
  {
   "cell_type": "code",
   "execution_count": 125,
   "metadata": {},
   "outputs": [
    {
     "name": "stdout",
     "output_type": "stream",
     "text": [
      "blue-->green-->yellow-->red-->\n",
      "purple-->blue-->green-->red-->\n"
     ]
    }
   ],
   "source": [
    "ll = LinkedList()\n",
    "# ll.insert_at_beginning(15)\n",
    "# ll.insert_at_beginning(30)\n",
    "# ll.insert_at_end(35)\n",
    "ll.insert_values(['blue', 'green', 'yellow', 'red'])\n",
    "ll.print()\n",
    "ll.remove_at(2)\n",
    "ll.insert_at(0, \"purple\")\n",
    "ll.print()\n"
   ]
  },
  {
   "cell_type": "code",
   "execution_count": 332,
   "metadata": {},
   "outputs": [],
   "source": [
    "def maxprofit(array):\n",
    "    maxprof = val = 0\n",
    "    for i in range(1, len(array)):\n",
    "        val = max(0, val + array[i] - array[i-1])\n",
    "        maxprof = max(maxprof, val)\n",
    "    return maxprof\n",
    "#     p = 1\n",
    "#     lst = []\n",
    "#     while p < len(array):\n",
    "#         for i in range(len(array)):\n",
    "#             lst.append(array[p] - array[i])\n",
    "#         p+=1\n",
    "#     return max(lst)\n",
    "    "
   ]
  },
  {
   "cell_type": "code",
   "execution_count": 333,
   "metadata": {},
   "outputs": [
    {
     "data": {
      "text/plain": [
       "5"
      ]
     },
     "execution_count": 333,
     "metadata": {},
     "output_type": "execute_result"
    }
   ],
   "source": [
    "array = [7,1,5,3,6,4]\n",
    "#array = [7,6,4,3,1]\n",
    "maxprofit(array)"
   ]
  },
  {
   "cell_type": "code",
   "execution_count": 144,
   "metadata": {},
   "outputs": [
    {
     "name": "stdout",
     "output_type": "stream",
     "text": [
      "4\n"
     ]
    }
   ],
   "source": []
  },
  {
   "cell_type": "code",
   "execution_count": 334,
   "metadata": {},
   "outputs": [
    {
     "name": "stdout",
     "output_type": "stream",
     "text": [
      "4\n",
      "3\n",
      "8\n"
     ]
    }
   ],
   "source": [
    "d= {'key':4, 'brush':3, 'cars':8}\n",
    "for i in d:\n",
    "    print (d[i])"
   ]
  },
  {
   "cell_type": "code",
   "execution_count": 146,
   "metadata": {},
   "outputs": [
    {
     "name": "stdout",
     "output_type": "stream",
     "text": [
      "4\n",
      "3\n",
      "8\n"
     ]
    }
   ],
   "source": [
    "for i, j in d.items():\n",
    "    print (j)"
   ]
  },
  {
   "cell_type": "code",
   "execution_count": 147,
   "metadata": {},
   "outputs": [
    {
     "data": {
      "text/plain": [
       "4"
      ]
     },
     "execution_count": 147,
     "metadata": {},
     "output_type": "execute_result"
    }
   ],
   "source": [
    "d['key']"
   ]
  },
  {
   "cell_type": "markdown",
   "metadata": {},
   "source": [
    "**Valid Parenthesis**"
   ]
  },
  {
   "cell_type": "code",
   "execution_count": 148,
   "metadata": {},
   "outputs": [],
   "source": [
    "def isvalid(s):\n",
    "    dic = {'(':')', '[':']','{':'}'}\n",
    "    if len(s) == 0:\n",
    "        return True\n",
    "    if len(s) % 2 != 0 or s[0] not in dic:\n",
    "        return False\n",
    "    stack =[]\n",
    "    for i in s:\n",
    "        if i in dic:\n",
    "            stack.append(i)\n",
    "        elif dic[stack.pop()] != i:\n",
    "            return False\n",
    "    return len(stack) == 0"
   ]
  },
  {
   "cell_type": "code",
   "execution_count": 151,
   "metadata": {},
   "outputs": [
    {
     "data": {
      "text/plain": [
       "False"
      ]
     },
     "execution_count": 151,
     "metadata": {},
     "output_type": "execute_result"
    }
   ],
   "source": [
    "string = '{[{}{()}]}}'\n",
    "isvalid(string)"
   ]
  },
  {
   "cell_type": "markdown",
   "metadata": {},
   "source": [
    "Subarray Product less than K\n",
    "\n"
   ]
  },
  {
   "cell_type": "code",
   "execution_count": 156,
   "metadata": {},
   "outputs": [
    {
     "name": "stdout",
     "output_type": "stream",
     "text": [
      "[10]\n",
      "[10, 5]\n",
      "[10, 5, 2]\n",
      "[10, 5, 2, 6]\n",
      "[5]\n",
      "[5, 2]\n",
      "[5, 2, 6]\n",
      "[2]\n",
      "[2, 6]\n",
      "[6]\n"
     ]
    }
   ],
   "source": [
    "arr = [10, 5, 2, 6]\n",
    "p1 = 0\n",
    "p2 = 0\n"
   ]
  },
  {
   "cell_type": "code",
   "execution_count": 157,
   "metadata": {},
   "outputs": [
    {
     "data": {
      "text/plain": [
       "[]"
      ]
     },
     "execution_count": 157,
     "metadata": {},
     "output_type": "execute_result"
    }
   ],
   "source": [
    "arr = [10, 5, 2, 6]\n",
    "p1 = 0\n",
    "p2 = 0\n",
    "arr[p1:p2]"
   ]
  },
  {
   "cell_type": "code",
   "execution_count": 386,
   "metadata": {},
   "outputs": [],
   "source": [
    "def numSubarrayProductLessThanK(nums, k):\n",
    "        if k <= 1: return 0\n",
    "        prod = 1\n",
    "        ans = left = 0\n",
    "        for right, val in enumerate(nums):\n",
    "            prod *= val\n",
    "            while prod >= k:\n",
    "                prod /= nums[left]\n",
    "                left += 1\n",
    "            ans += right - left + 1\n",
    "        return ans"
   ]
  },
  {
   "cell_type": "code",
   "execution_count": 387,
   "metadata": {},
   "outputs": [
    {
     "data": {
      "text/plain": [
       "8"
      ]
     },
     "execution_count": 387,
     "metadata": {},
     "output_type": "execute_result"
    }
   ],
   "source": [
    "n = [10,5,2,6]\n",
    "k = 100\n",
    "numSubarrayProductLessThanK(n, k)"
   ]
  },
  {
   "cell_type": "markdown",
   "metadata": {},
   "source": [
    "Happy Number"
   ]
  },
  {
   "cell_type": "code",
   "execution_count": 164,
   "metadata": {},
   "outputs": [],
   "source": [
    "def happynum(n):\n",
    "    if n == 1:\n",
    "        return True\n",
    "    ans = 0\n",
    "    while n != 1:\n",
    "        \n",
    "    "
   ]
  },
  {
   "cell_type": "code",
   "execution_count": 167,
   "metadata": {},
   "outputs": [],
   "source": [
    "n = 19\n",
    "n, digit = divmod(n,10)"
   ]
  },
  {
   "cell_type": "code",
   "execution_count": 197,
   "metadata": {},
   "outputs": [],
   "source": [
    "def isHappy( n: int):\n",
    "        if n == 1:\n",
    "            return True\n",
    "        p = []\n",
    "        while True:\n",
    "            p.append(n)\n",
    "            s = sum([int(i)**2 for i in str(n)])\n",
    "            \n",
    "            n = s\n",
    "            if s in p:\n",
    "                return False\n",
    "            elif s ==1:\n",
    "                return True"
   ]
  },
  {
   "cell_type": "code",
   "execution_count": 198,
   "metadata": {},
   "outputs": [
    {
     "data": {
      "text/plain": [
       "True"
      ]
     },
     "execution_count": 198,
     "metadata": {},
     "output_type": "execute_result"
    }
   ],
   "source": [
    "isHappy(19)"
   ]
  },
  {
   "cell_type": "markdown",
   "metadata": {},
   "source": [
    "Three Number Sum"
   ]
  },
  {
   "cell_type": "code",
   "execution_count": 419,
   "metadata": {},
   "outputs": [],
   "source": [
    "def threeNumberSum(array, targetsum):\n",
    "    array.sort()\n",
    "    triplets =[]\n",
    "    for i in range(len(array)-2):\n",
    "        left = i+1\n",
    "        right = len(array)-1\n",
    "        while left < right:\n",
    "            currentsum = array[i] +array[left] + array[right]\n",
    "            if currentsum == targetsum:\n",
    "                triplets.append([array[i], array[left], array[right]])\n",
    "                left+=1\n",
    "                right-=1\n",
    "            elif currentsum < target:\n",
    "                left +=1\n",
    "            elif currentsum > target:\n",
    "                right-=1\n",
    "            else:\n",
    "                return  []         #if target cannot be found\n",
    "    return triplets\n",
    "        \n",
    "    "
   ]
  },
  {
   "cell_type": "code",
   "execution_count": 420,
   "metadata": {},
   "outputs": [
    {
     "data": {
      "text/plain": [
       "[[-8, 2, 6], [-8, 3, 5], [-6, 1, 5]]"
      ]
     },
     "execution_count": 420,
     "metadata": {},
     "output_type": "execute_result"
    }
   ],
   "source": [
    "array = [12,3,1,2,-6,5,-8,6]\n",
    "targetsum = 0\n",
    "\n",
    "threeNumberSum(array, targetsum)"
   ]
  },
  {
   "cell_type": "code",
   "execution_count": 421,
   "metadata": {},
   "outputs": [
    {
     "data": {
      "text/plain": [
       "[]"
      ]
     },
     "execution_count": 421,
     "metadata": {},
     "output_type": "execute_result"
    }
   ],
   "source": [
    "array = [12,3,1,2,-6,5,-8,6]\n",
    "targetsum = 9\n",
    "\n",
    "threeNumberSum(array, targetsum)"
   ]
  },
  {
   "cell_type": "code",
   "execution_count": 224,
   "metadata": {},
   "outputs": [],
   "source": [
    "sortedlst = [-8,-6,1,2,3,5,6,12]\n"
   ]
  },
  {
   "cell_type": "code",
   "execution_count": 225,
   "metadata": {},
   "outputs": [
    {
     "name": "stdout",
     "output_type": "stream",
     "text": [
      "0\n",
      "1\n",
      "2\n",
      "3\n",
      "4\n"
     ]
    }
   ],
   "source": [
    "for i in range(5):\n",
    "    print (i)\n",
    "    "
   ]
  },
  {
   "cell_type": "code",
   "execution_count": 230,
   "metadata": {},
   "outputs": [
    {
     "data": {
      "text/plain": [
       "'n'"
      ]
     },
     "execution_count": 230,
     "metadata": {},
     "output_type": "execute_result"
    }
   ],
   "source": [
    "a = 'Tosin'\n",
    "b = [1,2,3,4]\n",
    "a[0]\n",
    "a[4]"
   ]
  },
  {
   "cell_type": "markdown",
   "metadata": {},
   "source": [
    "LeetCode find all duplicates in an array\n",
    "1<= a[i] <= n (n = size of array)\n"
   ]
  },
  {
   "cell_type": "code",
   "execution_count": 238,
   "metadata": {},
   "outputs": [],
   "source": [
    "def findDuplicates(array):\n",
    "    outlst = []\n",
    "    for i in range(len(array)):\n",
    "        index = abs(array[i]) -1\n",
    "        if array[index]< 0:\n",
    "            outlst.append(index+1)\n",
    "        array[index] = -array[index]\n",
    "       \n",
    "    return outlst\n",
    "            "
   ]
  },
  {
   "cell_type": "code",
   "execution_count": 239,
   "metadata": {},
   "outputs": [
    {
     "data": {
      "text/plain": [
       "[2, 3]"
      ]
     },
     "execution_count": 239,
     "metadata": {},
     "output_type": "execute_result"
    }
   ],
   "source": [
    "a =[4,3,2,7,8,2,3,1]\n",
    "findDuplicates(a)"
   ]
  },
  {
   "cell_type": "code",
   "execution_count": 242,
   "metadata": {},
   "outputs": [],
   "source": [
    "dp = [[1]*6 for i in range(2)]"
   ]
  },
  {
   "cell_type": "code",
   "execution_count": 243,
   "metadata": {},
   "outputs": [
    {
     "name": "stdout",
     "output_type": "stream",
     "text": [
      "[[1, 1, 1, 1, 1, 1], [1, 1, 1, 1, 1, 1]]\n"
     ]
    }
   ],
   "source": [
    "print(dp)"
   ]
  },
  {
   "cell_type": "markdown",
   "metadata": {},
   "source": [
    "Increasing Decreasing String"
   ]
  },
  {
   "cell_type": "code",
   "execution_count": 251,
   "metadata": {},
   "outputs": [
    {
     "name": "stdout",
     "output_type": "stream",
     "text": [
      "rice\n"
     ]
    }
   ],
   "source": [
    "import random\n",
    "def ranchoice(args):\n",
    "    stop = (random.randrange(0,len(args)))\n",
    "    return args[stop]\n",
    "\n",
    "\n",
    "food =['rice', 'yam', 'bread','veggies','croissant']  \n",
    "a =[1,3,5,7,8] \n",
    "print(ranchoice(food))"
   ]
  },
  {
   "cell_type": "markdown",
   "metadata": {},
   "source": [
    "**Creating A Binary Tree**"
   ]
  },
  {
   "cell_type": "code",
   "execution_count": 313,
   "metadata": {},
   "outputs": [],
   "source": [
    "class Node:\n",
    "    def __init__(self, value):\n",
    "        self.value = value\n",
    "        self.left = None\n",
    "        self.right = None\n",
    "    \n",
    "class BinaryTree:\n",
    "    def __init__(self, root):\n",
    "        self.root = Node(root)\n",
    "        \n",
    "    def print_tree(self, traversal_type):\n",
    "        if traversal_type == \"preorder\":\n",
    "            return self.preorder_print(tree.root, \" \")\n",
    "        elif traversal_type == \"inorder\":\n",
    "            return self.inorder_print(tree.root, \" \")\n",
    "        elif traversal_type == \"postorder\":\n",
    "            return self.postorder_print(tree.root, \" \")\n",
    "       \n",
    "        else:\n",
    "            print(\"Traversal type \" + str(traversal_type) + \" is not supported\")\n",
    "            return False\n",
    "        \n",
    "    def preorder_print(self, start, traversal):\n",
    "        if start:\n",
    "            traversal+= (str(start.value) + \"-\")\n",
    "            traversal = self.preorder_print(start.left, traversal)\n",
    "            traversal = self.preorder_print(start.right, traversal)\n",
    "        return traversal\n",
    "    \n",
    "    def inorder_print(self, start, traversal):\n",
    "        if start:\n",
    "            traversal = self.inorder_print(start.left, traversal)\n",
    "            traversal += (str(start.value) + \"-\")\n",
    "            traversal = self.inorder_print(start.right, traversal)\n",
    "        return traversal\n",
    "    \n",
    "    def postorder_print(self, start, traversal):\n",
    "        if start:\n",
    "            traversal = self.inorder_print(start.left, traversal)\n",
    "            traversal = self.inorder_print(start.right, traversal)\n",
    "            traversal += (str(start.value) + \"-\")\n",
    "        return traversal\n",
    "        \n",
    "   \n",
    "            "
   ]
  },
  {
   "cell_type": "code",
   "execution_count": 314,
   "metadata": {},
   "outputs": [],
   "source": [
    "tree = BinaryTree(1)\n",
    "tree.root.left=Node(2)\n",
    "tree.root.right =Node(3)\n",
    "tree.root.left.left = Node(4)\n",
    "tree.root.left.right = Node(5)\n",
    "tree.root.right.left = Node(6)\n",
    "tree.root.right.right = Node(7)"
   ]
  },
  {
   "cell_type": "code",
   "execution_count": 315,
   "metadata": {},
   "outputs": [
    {
     "name": "stdout",
     "output_type": "stream",
     "text": [
      " 1-2-4-5-3-6-7-\n",
      " 4-2-5-1-6-3-7-\n",
      " 4-2-5-6-3-7-1-\n"
     ]
    }
   ],
   "source": [
    "print(tree.print_tree(\"preorder\"))\n",
    "print(tree.print_tree(\"inorder\"))\n",
    "print(tree.print_tree(\"postorder\"))"
   ]
  },
  {
   "cell_type": "code",
   "execution_count": 317,
   "metadata": {},
   "outputs": [
    {
     "name": "stdout",
     "output_type": "stream",
     "text": [
      "0 0\n",
      "0 1\n",
      "0 2\n",
      "0 3\n",
      "0 4\n",
      "0 5\n",
      "1 0\n",
      "1 1\n",
      "1 2\n",
      "1 3\n",
      "1 4\n",
      "1 5\n",
      "2 0\n",
      "2 1\n",
      "2 2\n",
      "2 3\n",
      "2 4\n",
      "2 5\n",
      "3 0\n",
      "3 1\n",
      "3 2\n",
      "3 3\n",
      "3 4\n",
      "3 5\n"
     ]
    }
   ],
   "source": [
    "for i in range(4):\n",
    "    for j in range (6):\n",
    "        print(i,j)"
   ]
  },
  {
   "cell_type": "code",
   "execution_count": 329,
   "metadata": {},
   "outputs": [
    {
     "name": "stdout",
     "output_type": "stream",
     "text": [
      "a\n",
      "ab\n",
      "abb\n",
      "abba\n",
      "abbaa\n",
      "abbaad\n",
      "abbaada\n",
      "b\n",
      "bb\n",
      "bba\n",
      "bbaa\n",
      "bbaad\n",
      "bbaada\n",
      "b\n",
      "ba\n",
      "baa\n",
      "baad\n",
      "baada\n",
      "a\n",
      "aa\n",
      "aad\n",
      "aada\n",
      "a\n",
      "ad\n",
      "ada\n",
      "d\n",
      "da\n",
      "a\n"
     ]
    }
   ],
   "source": [
    "s = \"abbaada\"\n",
    "for i in range (len(s)):\n",
    "    for j in range (i+1, len(s)+1):\n",
    "        print(s[i:j])"
   ]
  },
  {
   "cell_type": "markdown",
   "metadata": {},
   "source": [
    "Find the first non repreating String"
   ]
  },
  {
   "cell_type": "code",
   "execution_count": 494,
   "metadata": {},
   "outputs": [],
   "source": [
    "def nonrepeatingstring(string):\n",
    "    dic = {}\n",
    "    for i in string:\n",
    "        if i not in dic:\n",
    "            dic[i] = 1\n",
    "        else:\n",
    "            dic[i]+=1\n",
    "    #print(dic)\n",
    "            \n",
    "            \n",
    "    \n",
    "    for j in dic:\n",
    "        if dic[j] == 1:\n",
    "            return j\n",
    "    \n",
    "       \n",
    "    \n",
    "        \n",
    "       "
   ]
  },
  {
   "cell_type": "code",
   "execution_count": 495,
   "metadata": {},
   "outputs": [],
   "source": [
    "b = \"aaaaabbbdddffee\"\n",
    "nonrepeatingstring(b)"
   ]
  },
  {
   "cell_type": "markdown",
   "metadata": {},
   "source": [
    "Reverse an integer"
   ]
  },
  {
   "cell_type": "code",
   "execution_count": 399,
   "metadata": {},
   "outputs": [],
   "source": [
    "def reverseinteger(x):\n",
    "    reverse = 0\n",
    "    while x :\n",
    "        if x > 0 :\n",
    "            rem = x % 10\n",
    "            x//= 10\n",
    "        else:\n",
    "            rem = x % -10\n",
    "            x = int(x /10)\n",
    "        \n",
    "        \n",
    "        reverse = (reverse*10) + rem\n",
    "    return reverse"
   ]
  },
  {
   "cell_type": "code",
   "execution_count": 400,
   "metadata": {},
   "outputs": [
    {
     "data": {
      "text/plain": [
       "-321"
      ]
     },
     "execution_count": 400,
     "metadata": {},
     "output_type": "execute_result"
    }
   ],
   "source": [
    "reverseinteger(-123)\n",
    "\n",
    "# -32% -10\n",
    "# -123/-10\n",
    "\n",
    "\n",
    "\n"
   ]
  },
  {
   "cell_type": "code",
   "execution_count": 469,
   "metadata": {},
   "outputs": [],
   "source": [
    "def reverseinteger(x):\n",
    "    if x < 0:\n",
    "        x = x* -1\n",
    "        x = str(x)\n",
    "        x = x[::-1]\n",
    "        x = int(x) *-1\n",
    "    else: \n",
    "        x = str(x)\n",
    "        x = x[::-1]\n",
    "        x = int(x)\n",
    "    \n",
    "    \n",
    "    return x\n"
   ]
  },
  {
   "cell_type": "code",
   "execution_count": 470,
   "metadata": {},
   "outputs": [
    {
     "data": {
      "text/plain": [
       "-3121"
      ]
     },
     "execution_count": 470,
     "metadata": {},
     "output_type": "execute_result"
    }
   ],
   "source": [
    "reverseinteger(-1213)"
   ]
  },
  {
   "cell_type": "code",
   "execution_count": 471,
   "metadata": {},
   "outputs": [
    {
     "data": {
      "text/plain": [
       "0"
      ]
     },
     "execution_count": 471,
     "metadata": {},
     "output_type": "execute_result"
    }
   ],
   "source": [
    "a = []\n",
    "len(a)\n"
   ]
  },
  {
   "cell_type": "markdown",
   "metadata": {},
   "source": [
    "Smallest Difference Between Two Arrays"
   ]
  },
  {
   "cell_type": "code",
   "execution_count": 6,
   "metadata": {},
   "outputs": [],
   "source": [
    "def smallestDifference(array1, array2):\n",
    "    array1.sort()\n",
    "    array2.sort()\n",
    "    idxone = 0\n",
    "    idxtwo = 0\n",
    "    smallestdiff = float(\"inf\")\n",
    "    #currentdiff = float(\"inf\")\n",
    "    smallestpair = []\n",
    "    \n",
    "    while idxone < len(array1) and idxtwo < len(array2):\n",
    "        firstnum = array1[idxone]\n",
    "        secondnum = array2[idxtwo]\n",
    "        if firstnum < secondnum:\n",
    "            currentdiff = secondnum - firstnum\n",
    "            idxone+=1\n",
    "        elif secondnum < firstnum:\n",
    "            currentdiff =  firstnum - secondnum\n",
    "            idxtwo+=1\n",
    "        else:\n",
    "            return [firstnum, secondnum]\n",
    "        if smallestdiff > currentdiff:\n",
    "            smallestdiff = currentdiff\n",
    "            smallestpair = [firstnum, secondnum]\n",
    "    return smallestpair\n",
    "            "
   ]
  },
  {
   "cell_type": "code",
   "execution_count": 7,
   "metadata": {},
   "outputs": [
    {
     "data": {
      "text/plain": [
       "[2, 1]"
      ]
     },
     "execution_count": 7,
     "metadata": {},
     "output_type": "execute_result"
    }
   ],
   "source": [
    "A = [2,45,7,98, 34, 16, 4]\n",
    "B = [3,8,19,1,49,55]\n",
    "smallestDifference(A,B)"
   ]
  },
  {
   "cell_type": "markdown",
   "metadata": {},
   "source": [
    "Find the distinc pairs that sum up to K"
   ]
  },
  {
   "cell_type": "code",
   "execution_count": 440,
   "metadata": {},
   "outputs": [],
   "source": [
    "def DisPair(arr, k):\n",
    "    empset = set()\n",
    "    for i in arr:\n",
    "        complement = k-i\n",
    "        if complement in arr and arr.index(complement) != arr.index(i):\n",
    "            empset.add(tuple(sorted([i, complement])))\n",
    "    if complement not in arr:\n",
    "        print(\"No pair\")\n",
    "    return len(empset)\n"
   ]
  },
  {
   "cell_type": "code",
   "execution_count": 441,
   "metadata": {},
   "outputs": [
    {
     "name": "stdout",
     "output_type": "stream",
     "text": [
      "No pair\n"
     ]
    },
    {
     "data": {
      "text/plain": [
       "0"
      ]
     },
     "execution_count": 441,
     "metadata": {},
     "output_type": "execute_result"
    }
   ],
   "source": [
    "a = [1,3,42,1,3,9]\n",
    "k = 47\n",
    "DisPair(a,k)"
   ]
  },
  {
   "cell_type": "code",
   "execution_count": 442,
   "metadata": {},
   "outputs": [
    {
     "data": {
      "text/plain": [
       "2"
      ]
     },
     "execution_count": 442,
     "metadata": {},
     "output_type": "execute_result"
    }
   ],
   "source": [
    "a = [1,3,42,1,4,3,9,0]\n",
    "k = 4\n",
    "DisPair(a,k)"
   ]
  },
  {
   "cell_type": "markdown",
   "metadata": {},
   "source": [
    "Sub-Palindrome"
   ]
  },
  {
   "cell_type": "code",
   "execution_count": 502,
   "metadata": {},
   "outputs": [],
   "source": [
    "def subPalindrome(string):\n",
    "    s = set()\n",
    "    for i in range(len(string)):\n",
    "        for j in range(i+1, (len(string)+1)):\n",
    "            a = string[i:j]\n",
    "            if a[::-1] == string[i:j]:\n",
    "                s.add(a)\n",
    "    return len(s)"
   ]
  },
  {
   "cell_type": "code",
   "execution_count": 503,
   "metadata": {},
   "outputs": [
    {
     "data": {
      "text/plain": [
       "7"
      ]
     },
     "execution_count": 503,
     "metadata": {},
     "output_type": "execute_result"
    }
   ],
   "source": [
    "st = 'mokkori'\n",
    "subPalindrome(st)\n"
   ]
  },
  {
   "cell_type": "markdown",
   "metadata": {},
   "source": [
    "# Create A linkelist with different forms of insertion methods"
   ]
  },
  {
   "cell_type": "code",
   "execution_count": 2,
   "metadata": {},
   "outputs": [
    {
     "name": "stdout",
     "output_type": "stream",
     "text": [
      "5\n",
      "3\n",
      "4\n",
      "2\n"
     ]
    }
   ],
   "source": [
    "class Node:\n",
    "    def __init__(self, data):\n",
    "        self.data = data\n",
    "        self.next = None\n",
    "        \n",
    "        \n",
    "        \n",
    "        \n",
    "        \n",
    "class Linkedlist:\n",
    "    def __init__(self):\n",
    "        self.head = None\n",
    "        \n",
    "        \n",
    "        \n",
    "    def printlist(self):\n",
    "        current_node = self.head\n",
    "        while current_node:\n",
    "            print(current_node.data)\n",
    "            current_node = current_node.next\n",
    "        \n",
    "        \n",
    "    def append(self, data):\n",
    "        new_node = Node(data)\n",
    "        if self.head is None:\n",
    "            self.head = new_node\n",
    "            return\n",
    "        \n",
    "        last_node = self.head\n",
    "        while last_node.next:\n",
    "            last_node = last_node.next\n",
    "        last_node.next = new_node\n",
    "        \n",
    "        \n",
    "    def prepend(self, data):\n",
    "        new_node = Node(data)\n",
    "        new_node.next = self.head\n",
    "        self.head = new_node\n",
    "        \n",
    "    def insert_after_node(self, prev,data):\n",
    "        if not prev:\n",
    "            print(\"Node not found\")\n",
    "            return\n",
    "        new_node = Node(data)\n",
    "        new_node.next = prev.next\n",
    "        prev.next = new_node\n",
    "        \n",
    "        \n",
    "    def remove_duplicates(self):\n",
    "        \n",
    "        curr = self.head\n",
    "        prev = None\n",
    "        duplicate = {}\n",
    "        \n",
    "        while curr:\n",
    "            if curr.data in duplicate:\n",
    "                prev.next = curr.next\n",
    "                curr = None\n",
    "            else:\n",
    "                duplicate[curr.data] = 1\n",
    "                prev = curr\n",
    "            curr = prev.next\n",
    "\n",
    "        \n",
    "linkedlist = Linkedlist()\n",
    "\n",
    "linkedlist.append(5)\n",
    "linkedlist.append(3)\n",
    "linkedlist.append(4)\n",
    "linkedlist.append(2)\n",
    "linkedlist.append(3)\n",
    "#linkedlist.insert_after_node(linkedlist.head.next,7)\n",
    "linkedlist.remove_duplicates()\n",
    "linkedlist.printlist()        \n",
    "\n",
    "        "
   ]
  },
  {
   "cell_type": "code",
   "execution_count": null,
   "metadata": {},
   "outputs": [],
   "source": [
    "#def combination()"
   ]
  },
  {
   "cell_type": "code",
   "execution_count": 36,
   "metadata": {},
   "outputs": [],
   "source": [
    "def getUmbrellas(requirement, sizes):\n",
    "    for i in sizes:\n",
    "        if requirement % i == 0:\n",
    "            val = requirement // i\n",
    "            break\n",
    "        \n",
    "        else:\n",
    "            val = -1\n",
    "    return val"
   ]
  },
  {
   "cell_type": "code",
   "execution_count": 45,
   "metadata": {},
   "outputs": [
    {
     "data": {
      "text/plain": [
       "-1"
      ]
     },
     "execution_count": 45,
     "metadata": {},
     "output_type": "execute_result"
    }
   ],
   "source": [
    "requirement = 13\n",
    "sizes = [3,4,5]\n",
    "\n",
    "getUmbrellas(requirement, sizes)"
   ]
  },
  {
   "cell_type": "code",
   "execution_count": 77,
   "metadata": {},
   "outputs": [],
   "source": [
    "#Leetcode problem to retrun the indices of two numbers such that they add up to a target\n",
    "def twonumsumIndices(array, targetsum):\n",
    "    s = []\n",
    "    if len(array) > 0:\n",
    "        for i, num in enumerate(array):\n",
    "            complement = targetsum - num\n",
    "            if complement in array[i+1:]: #and complement != num:\n",
    "                a = array.index(num)\n",
    "                s.append(array.index(num))\n",
    "                \n",
    "                s.append(array.index(complement,a))\n",
    "                break\n",
    "            else:\n",
    "                s = []\n",
    "    else:\n",
    "        s = []\n",
    "    return s"
   ]
  },
  {
   "cell_type": "code",
   "execution_count": 78,
   "metadata": {},
   "outputs": [
    {
     "data": {
      "text/plain": [
       "[0, 0]"
      ]
     },
     "execution_count": 78,
     "metadata": {},
     "output_type": "execute_result"
    }
   ],
   "source": [
    "twonumsumIndices([3,3], 6)"
   ]
  },
  {
   "cell_type": "code",
   "execution_count": 79,
   "metadata": {},
   "outputs": [],
   "source": [
    "def twonumsumIndices(nums, target):\n",
    "    for i in range(len(nums)):\n",
    "        s=target-nums[i]\n",
    "        if s in nums and nums.index(s)!=i:\n",
    "            return [nums.index(s),i]"
   ]
  },
  {
   "cell_type": "code",
   "execution_count": 80,
   "metadata": {},
   "outputs": [
    {
     "data": {
      "text/plain": [
       "[0, 1]"
      ]
     },
     "execution_count": 80,
     "metadata": {},
     "output_type": "execute_result"
    }
   ],
   "source": [
    "twonumsumIndices([3,3], 6)"
   ]
  },
  {
   "cell_type": "code",
   "execution_count": 1,
   "metadata": {},
   "outputs": [],
   "source": [
    "# Find if two given rectangles overlap or not\n",
    "def overlappingRec(t1, t2):\n",
    "    if (t2[0] > t1[2] or t1[0] > t2[2] or t1[3] > t2[1] or t2[3] > t1[1]):\n",
    "        return 0\n",
    "    else:\n",
    "        return 1"
   ]
  },
  {
   "cell_type": "code",
   "execution_count": 2,
   "metadata": {},
   "outputs": [
    {
     "data": {
      "text/plain": [
       "1"
      ]
     },
     "execution_count": 2,
     "metadata": {},
     "output_type": "execute_result"
    }
   ],
   "source": [
    "rec_1 = [0,10,10,0]\n",
    "rec_2 = [5,5,15,0]\n",
    "overlappingRec(rec_1, rec_2)"
   ]
  },
  {
   "cell_type": "code",
   "execution_count": 3,
   "metadata": {},
   "outputs": [
    {
     "data": {
      "text/plain": [
       "0"
      ]
     },
     "execution_count": 3,
     "metadata": {},
     "output_type": "execute_result"
    }
   ],
   "source": [
    "rec_3 = [0,2,1,1]\n",
    "rec_4 = [-2,-3,0,2]\n",
    "overlappingRec(rec_3, rec_4)"
   ]
  },
  {
   "cell_type": "code",
   "execution_count": 4,
   "metadata": {},
   "outputs": [],
   "source": [
    "# Column Name from a given column number(Excel)\n",
    "\n",
    "def ColName(n):\n",
    "    res = \"\"\n",
    "    while n > 0:\n",
    "        rem = chr(ord('A') + (n-1) % 26)\n",
    "        n = (n-1)//26\n",
    "        res = rem + res\n",
    "    return res"
   ]
  },
  {
   "cell_type": "code",
   "execution_count": 5,
   "metadata": {},
   "outputs": [
    {
     "data": {
      "text/plain": [
       "'DX'"
      ]
     },
     "execution_count": 5,
     "metadata": {},
     "output_type": "execute_result"
    }
   ],
   "source": [
    "ColName(128)"
   ]
  },
  {
   "cell_type": "code",
   "execution_count": 6,
   "metadata": {},
   "outputs": [
    {
     "data": {
      "text/plain": [
       "'R'"
      ]
     },
     "execution_count": 6,
     "metadata": {},
     "output_type": "execute_result"
    }
   ],
   "source": [
    "ColName(18)"
   ]
  },
  {
   "cell_type": "code",
   "execution_count": 7,
   "metadata": {},
   "outputs": [
    {
     "data": {
      "text/plain": [
       "'Z'"
      ]
     },
     "execution_count": 7,
     "metadata": {},
     "output_type": "execute_result"
    }
   ],
   "source": [
    "ColName(26)"
   ]
  },
  {
   "cell_type": "code",
   "execution_count": 67,
   "metadata": {},
   "outputs": [],
   "source": [
    "#find first non repeating character\n",
    "\n",
    "def nonRepeat(strn):\n",
    "    dic = {}\n",
    "\n",
    "    for i in strn:\n",
    "        if i in dic:\n",
    "            dic[i]+=1\n",
    "        else:\n",
    "            dic[i] = 1\n",
    "    for key, val in dic.items(): \n",
    "        if dic[key] == 1:\n",
    "            return key\n",
    "            \n",
    "    if 1 not in dic.keys():\n",
    "        return -1\n",
    "    \n",
    "            \n",
    "        \n",
    "        \n",
    "           \n"
   ]
  },
  {
   "cell_type": "code",
   "execution_count": 69,
   "metadata": {},
   "outputs": [
    {
     "data": {
      "text/plain": [
       "'c'"
      ]
     },
     "execution_count": 69,
     "metadata": {},
     "output_type": "execute_result"
    }
   ],
   "source": [
    "strn = 'zxvczbtxyzbvy'\n",
    "nonRepeat(strn)"
   ]
  },
  {
   "cell_type": "code",
   "execution_count": 73,
   "metadata": {},
   "outputs": [
    {
     "name": "stdout",
     "output_type": "stream",
     "text": [
      "a\n"
     ]
    }
   ],
   "source": [
    "de = {'a':2, 'b':3, 'c':4, 'd':2}\n",
    "for i in de:\n",
    "    if de[i] == 2:\n",
    "        print(i)\n",
    "        break"
   ]
  },
  {
   "cell_type": "code",
   "execution_count": 89,
   "metadata": {},
   "outputs": [],
   "source": [
    "# No of distince ways to climb a stairs if you can take either 1 or 2 steps\n",
    "def noDistincways(n):\n",
    "    stairs = [0] * (n+1)\n",
    "    stairs[0] = 1\n",
    "    stairs[1] = 1\n",
    "    for i in range(2, n+1):\n",
    "        stairs[i] = stairs[i-1] +stairs[i-2]\n",
    "    return stairs[n]"
   ]
  },
  {
   "cell_type": "code",
   "execution_count": 95,
   "metadata": {},
   "outputs": [
    {
     "data": {
      "text/plain": [
       "13"
      ]
     },
     "execution_count": 95,
     "metadata": {},
     "output_type": "execute_result"
    }
   ],
   "source": [
    "noDistincways(6)"
   ]
  },
  {
   "cell_type": "code",
   "execution_count": 99,
   "metadata": {},
   "outputs": [],
   "source": [
    "# No of distince ways to climb a stairs if you can take either 1 or 2 steps\n",
    "def noOfDistincways(n):\n",
    "    a,b = 1,1\n",
    "    counter = 2\n",
    "    while counter <= n:\n",
    "        noways = a + b\n",
    "        a = b\n",
    "        b = noways\n",
    "        counter+=1\n",
    "    return noways"
   ]
  },
  {
   "cell_type": "code",
   "execution_count": 100,
   "metadata": {},
   "outputs": [
    {
     "data": {
      "text/plain": [
       "13"
      ]
     },
     "execution_count": 100,
     "metadata": {},
     "output_type": "execute_result"
    }
   ],
   "source": [
    "noOfDistincways(6)"
   ]
  },
  {
   "cell_type": "code",
   "execution_count": 101,
   "metadata": {},
   "outputs": [],
   "source": [
    "# No of distince ways to climb a stairs if you can take either 1,2 or 3 steps\n",
    "def noOfDistincways(n):\n",
    "    a,b,c = 1,1,2\n",
    "    counter = 3\n",
    "    while counter <= n:\n",
    "        noways = a + b +c\n",
    "        a = b\n",
    "        b = c\n",
    "        c = noways\n",
    "        counter+=1\n",
    "    return noways"
   ]
  },
  {
   "cell_type": "code",
   "execution_count": 104,
   "metadata": {},
   "outputs": [
    {
     "data": {
      "text/plain": [
       "24"
      ]
     },
     "execution_count": 104,
     "metadata": {},
     "output_type": "execute_result"
    }
   ],
   "source": [
    "noOfDistincways(6)"
   ]
  },
  {
   "cell_type": "code",
   "execution_count": 118,
   "metadata": {},
   "outputs": [
    {
     "name": "stdout",
     "output_type": "stream",
     "text": [
      "[1, 1, 2, 3, 5, 8]\n"
     ]
    }
   ],
   "source": [
    "# No of distinc ways to climb a stairs if we can take k no of steps\n",
    "n = 5\n",
    "dp = [0]*(n+1)\n",
    "dp[0] = 1\n",
    "dp[1] = 1\n",
    "k = 2\n",
    "for i in range(2, n+1):\n",
    "    for j in range(1, k+1):\n",
    "        if i-j < 0:\n",
    "            continue\n",
    "        dp[i] +=dp[i-j] \n",
    "print(dp)        \n"
   ]
  },
  {
   "cell_type": "code",
   "execution_count": 121,
   "metadata": {},
   "outputs": [
    {
     "name": "stdout",
     "output_type": "stream",
     "text": [
      "1\n",
      "0\n",
      "2\n",
      "1\n",
      "3\n",
      "2\n",
      "4\n",
      "3\n"
     ]
    }
   ],
   "source": [
    "for i in range(2,6):\n",
    "    for j in range(1,3):\n",
    "        a = i-j\n",
    "        print(a)"
   ]
  },
  {
   "cell_type": "code",
   "execution_count": 41,
   "metadata": {},
   "outputs": [],
   "source": [
    "# python3\n",
    "\n",
    "def max_pairwise_product(arr):\n",
    "    n = len(arr)\n",
    "    index_1 = 0\n",
    "    for i in range(1,n):\n",
    "        if arr[i] > arr[index_1]:\n",
    "            index_1 = i\n",
    "    arr[index_1], arr[n-1] = arr[n-1], arr[index_1]\n",
    "    \n",
    "    index_2 = 0\n",
    "    for i in range(1, n-1):\n",
    "        if arr[i] > arr[index_2]:\n",
    "            index_2 = i\n",
    "    arr[index_2], arr[n-2] = arr[n-2], arr[index_2] \n",
    "    return arr[-1] * arr[-2]\n",
    "    "
   ]
  },
  {
   "cell_type": "code",
   "execution_count": 42,
   "metadata": {},
   "outputs": [
    {
     "data": {
      "text/plain": [
       "140"
      ]
     },
     "execution_count": 42,
     "metadata": {},
     "output_type": "execute_result"
    }
   ],
   "source": [
    "a = [2,14,10,2,1]\n",
    "max_pairwise_product(a)"
   ]
  },
  {
   "cell_type": "code",
   "execution_count": 20,
   "metadata": {},
   "outputs": [
    {
     "data": {
      "text/plain": [
       "[2, 1, 10, 2, 14]"
      ]
     },
     "execution_count": 20,
     "metadata": {},
     "output_type": "execute_result"
    }
   ],
   "source": [
    "a = [2,14,10,2,1]\n",
    "a[-1]\n",
    "a[1]\n",
    "a[-1], a[1] = a[1], a[-1]\n",
    "a"
   ]
  },
  {
   "cell_type": "code",
   "execution_count": 21,
   "metadata": {},
   "outputs": [
    {
     "data": {
      "text/plain": [
       "5"
      ]
     },
     "execution_count": 21,
     "metadata": {},
     "output_type": "execute_result"
    }
   ],
   "source": []
  },
  {
   "cell_type": "code",
   "execution_count": 50,
   "metadata": {},
   "outputs": [
    {
     "data": {
      "text/plain": [
       "140"
      ]
     },
     "execution_count": 50,
     "metadata": {},
     "output_type": "execute_result"
    }
   ],
   "source": [
    "a = [2,14,10,2,1]\n",
    "b = max(a)\n",
    "c = a.index(b)\n",
    "\n",
    "\n",
    "a[c], a[-1] = a[-1],a[c]\n",
    "d = max(a[0:4])\n",
    "b*d"
   ]
  },
  {
   "cell_type": "code",
   "execution_count": 52,
   "metadata": {},
   "outputs": [],
   "source": [
    "def largestcommondiv(a,b):\n",
    "    if b == 0:\n",
    "        return a\n",
    "    \n",
    "    while b > 0:\n",
    "        rem = a % b\n",
    "        a = b\n",
    "        b = rem\n",
    "    return a \n"
   ]
  },
  {
   "cell_type": "code",
   "execution_count": 56,
   "metadata": {},
   "outputs": [
    {
     "data": {
      "text/plain": [
       "9"
      ]
     },
     "execution_count": 56,
     "metadata": {},
     "output_type": "execute_result"
    }
   ],
   "source": [
    "largestcommondiv(81, 9)"
   ]
  },
  {
   "cell_type": "code",
   "execution_count": 80,
   "metadata": {},
   "outputs": [],
   "source": [
    "def calc_fib(n):\n",
    "    if n < 1:\n",
    "        return 0\n",
    "    elif n == 1:\n",
    "        return 1\n",
    "    a = 0\n",
    "    b = 1\n",
    "    counter = 2\n",
    "    while counter <= n:\n",
    "        next_no = a + b\n",
    "        a = b\n",
    "        b = next_no\n",
    "        counter+=1\n",
    "    return b"
   ]
  },
  {
   "cell_type": "code",
   "execution_count": 81,
   "metadata": {},
   "outputs": [
    {
     "data": {
      "text/plain": [
       "3"
      ]
     },
     "execution_count": 81,
     "metadata": {},
     "output_type": "execute_result"
    }
   ],
   "source": [
    "calc_fib(4)"
   ]
  },
  {
   "cell_type": "code",
   "execution_count": 107,
   "metadata": {},
   "outputs": [],
   "source": [
    "def get_fibonacci_last_digit(n):\n",
    "    if n <= 1:\n",
    "        return n\n",
    "\n",
    "    previous = 0\n",
    "    current  = 1\n",
    "    sm = 1 % 10\n",
    "\n",
    "    for _ in range(n - 1):\n",
    "        previous, current = (current % 10), ((previous % 10) + (current % 10) )\n",
    "        \n",
    "\n",
    "    return current"
   ]
  },
  {
   "cell_type": "code",
   "execution_count": 110,
   "metadata": {},
   "outputs": [
    {
     "data": {
      "text/plain": [
       "3"
      ]
     },
     "execution_count": 110,
     "metadata": {},
     "output_type": "execute_result"
    }
   ],
   "source": [
    "get_fibonacci_last_digit(250)"
   ]
  },
  {
   "cell_type": "code",
   "execution_count": 87,
   "metadata": {},
   "outputs": [],
   "source": [
    "def lowestcommonmultiple(a,b):\n",
    "    if b == 0:\n",
    "        return a\n",
    "    c = a\n",
    "    d = b\n",
    "    while b > 0:\n",
    "        rem = a % b\n",
    "        a = b\n",
    "        b = rem\n",
    "    return a * (c//a) *(d//a)"
   ]
  },
  {
   "cell_type": "code",
   "execution_count": 89,
   "metadata": {},
   "outputs": [
    {
     "data": {
      "text/plain": [
       "24"
      ]
     },
     "execution_count": 89,
     "metadata": {},
     "output_type": "execute_result"
    }
   ],
   "source": [
    "lowestcommonmultiple(6,8)"
   ]
  },
  {
   "cell_type": "code",
   "execution_count": 111,
   "metadata": {},
   "outputs": [],
   "source": []
  },
  {
   "cell_type": "code",
   "execution_count": 112,
   "metadata": {},
   "outputs": [
    {
     "data": {
      "text/plain": [
       "7"
      ]
     },
     "execution_count": 112,
     "metadata": {},
     "output_type": "execute_result"
    }
   ],
   "source": [
    "fibonacci_sum_last_digit(4)"
   ]
  },
  {
   "cell_type": "code",
   "execution_count": 122,
   "metadata": {},
   "outputs": [
    {
     "data": {
      "text/plain": [
       "0"
      ]
     },
     "execution_count": 122,
     "metadata": {},
     "output_type": "execute_result"
    }
   ],
   "source": [
    "3 % 1"
   ]
  },
  {
   "cell_type": "code",
   "execution_count": 121,
   "metadata": {},
   "outputs": [
    {
     "data": {
      "text/plain": [
       "0"
      ]
     },
     "execution_count": 121,
     "metadata": {},
     "output_type": "execute_result"
    }
   ],
   "source": [
    "calc_fib(200)"
   ]
  },
  {
   "cell_type": "code",
   "execution_count": 148,
   "metadata": {},
   "outputs": [],
   "source": [
    "def get_change(m):\n",
    "    if m < 5:\n",
    "        return m\n",
    "    a = b= c = 0\n",
    "    while m > 0:\n",
    "        if m >= 10:\n",
    "            a = m// 10\n",
    "            m= m % 10\n",
    "        elif m >= 5 and m < 10:\n",
    "            b = m// 5\n",
    "            m = m % 5\n",
    "        elif m < 5:\n",
    "            c = m \n",
    "            m = m % 1\n",
    "            \n",
    "    return a +b +c"
   ]
  },
  {
   "cell_type": "code",
   "execution_count": 151,
   "metadata": {},
   "outputs": [
    {
     "data": {
      "text/plain": [
       "5"
      ]
     },
     "execution_count": 151,
     "metadata": {},
     "output_type": "execute_result"
    }
   ],
   "source": [
    "get_change(27)"
   ]
  },
  {
   "cell_type": "code",
   "execution_count": null,
   "metadata": {},
   "outputs": [],
   "source": []
  },
  {
   "cell_type": "code",
   "execution_count": 7,
   "metadata": {},
   "outputs": [],
   "source": [
    "def missing_no(arr, n):\n",
    "    for i in range(1,n+1):\n",
    "        if i not in arr:\n",
    "            return i\n",
    "            "
   ]
  },
  {
   "cell_type": "code",
   "execution_count": 9,
   "metadata": {},
   "outputs": [
    {
     "data": {
      "text/plain": [
       "9"
      ]
     },
     "execution_count": 9,
     "metadata": {},
     "output_type": "execute_result"
    }
   ],
   "source": [
    "arr = [1,2,3,4,5,6,7,8,10]\n",
    "n = 10\n",
    "missing_no(arr, n)"
   ]
  },
  {
   "cell_type": "code",
   "execution_count": 18,
   "metadata": {},
   "outputs": [
    {
     "data": {
      "text/plain": [
       "[(12, 1), (4, 2), (8, 3), (2, 4), (9, 5)]"
      ]
     },
     "execution_count": 18,
     "metadata": {},
     "output_type": "execute_result"
    }
   ],
   "source": [
    "a = [12,4,8,2,9]\n",
    "b = [1,2,3,4,5]\n",
    "d = list(zip(a,b))\n",
    "d"
   ]
  },
  {
   "cell_type": "code",
   "execution_count": 27,
   "metadata": {},
   "outputs": [],
   "source": [
    "a = sorted(d, key=lambda num: num[0]/num[1], reverse=True)"
   ]
  },
  {
   "cell_type": "code",
   "execution_count": 28,
   "metadata": {},
   "outputs": [
    {
     "data": {
      "text/plain": [
       "[(12, 1), (8, 3), (4, 2), (9, 5), (2, 4)]"
      ]
     },
     "execution_count": 28,
     "metadata": {},
     "output_type": "execute_result"
    }
   ],
   "source": [
    "a"
   ]
  },
  {
   "cell_type": "code",
   "execution_count": 29,
   "metadata": {},
   "outputs": [
    {
     "data": {
      "text/plain": [
       "[12, 8, 4, 9, 2]"
      ]
     },
     "execution_count": 29,
     "metadata": {},
     "output_type": "execute_result"
    }
   ],
   "source": [
    "w = []\n",
    "for i in a:\n",
    "    w.append(i[0])\n",
    "w"
   ]
  },
  {
   "cell_type": "code",
   "execution_count": 30,
   "metadata": {},
   "outputs": [],
   "source": [
    "def get_optimal_value(capacity, weights, values):\n",
    "    value = 0.\n",
    "    new_weights = []\n",
    "    new_val = []\n",
    "\n",
    "\n",
    "    d = list(zip(weights, values))\n",
    "\n",
    "    a = sorted(d, key=lambda num: num[1]/num[0], reverse=True )\n",
    "    #print(a)\n",
    "    for i in a:\n",
    "        new_weights.append(i[0])\n",
    "        new_val.append(i[1])\n",
    "\n",
    "    #print(frac)\n",
    "\n",
    "    #weights = sorted(weights, key=values/weights, reverse=True)\n",
    "    for i in range(n):\n",
    "        if capacity == 0:\n",
    "            return value\n",
    "        a = min(new_weights[i], capacity)\n",
    "\n",
    "        value+= a *(new_val[i]/new_weights[i])\n",
    "        #new_weights[i]-=a\n",
    "        capacity-= a\n",
    "\n",
    "\n",
    "    # write your code here\n",
    "\n",
    "    return value"
   ]
  },
  {
   "cell_type": "code",
   "execution_count": 32,
   "metadata": {},
   "outputs": [
    {
     "data": {
      "text/plain": [
       "180.0"
      ]
     },
     "execution_count": 32,
     "metadata": {},
     "output_type": "execute_result"
    }
   ],
   "source": [
    "n = 3\n",
    "capacity = 50\n",
    "weights = [20,50,30]\n",
    "values = [60,100,120]\n",
    "\n",
    "get_optimal_value(capacity, weights, values)"
   ]
  },
  {
   "cell_type": "code",
   "execution_count": 1,
   "metadata": {},
   "outputs": [],
   "source": [
    "def compute_min_refills(distance, tank, stops):\n",
    "    # write your code here\n",
    "    num_refills = 0\n",
    "    current_refill = 0\n",
    "    stops = [0] + stops +[distance]\n",
    "    n = len(stops)\n",
    "    while current_refill < n-1:\n",
    "        last_refill = current_refill\n",
    "        while (current_refill < n-1) and (stops[current_refill+1] - stops[last_refill]<= tank):\n",
    "            current_refill+=1\n",
    "        if current_refill == last_refill:\n",
    "            return -1\n",
    "        elif current_refill < n-1:\n",
    "            num_refills+=1\n",
    "    return num_refills"
   ]
  },
  {
   "cell_type": "code",
   "execution_count": 2,
   "metadata": {},
   "outputs": [
    {
     "data": {
      "text/plain": [
       "2"
      ]
     },
     "execution_count": 2,
     "metadata": {},
     "output_type": "execute_result"
    }
   ],
   "source": [
    "compute_min_refills(950, 400, stops=[200,375,550,750])"
   ]
  },
  {
   "cell_type": "code",
   "execution_count": 6,
   "metadata": {},
   "outputs": [],
   "source": [
    "def binary_search(a, x):\n",
    "    left, right = 0, len(a)-1\n",
    "    # write your code here\n",
    "    while left <= right:\n",
    "        mid = (left +(right-left)//2)\n",
    "        if x == a[mid]:\n",
    "            return mid\n",
    "        elif x< a[mid]:\n",
    "            right = mid-1\n",
    "        elif x > a[mid]:\n",
    "            left = mid+1\n",
    "        \n",
    "    return -1"
   ]
  },
  {
   "cell_type": "code",
   "execution_count": 7,
   "metadata": {},
   "outputs": [
    {
     "data": {
      "text/plain": [
       "-1"
      ]
     },
     "execution_count": 7,
     "metadata": {},
     "output_type": "execute_result"
    }
   ],
   "source": [
    "a = [1,2,3,4,5,6,7,8]\n",
    "x = 9\n",
    "binary_search(a, x)"
   ]
  },
  {
   "cell_type": "code",
   "execution_count": 8,
   "metadata": {},
   "outputs": [],
   "source": [
    "def get_majority_element(a):\n",
    "    d = {}\n",
    "    for i in a:\n",
    "        if i not in d:\n",
    "            d[i] = 1\n",
    "        else:\n",
    "            d[i]+=1\n",
    "    for key, value in d.items():\n",
    "        if value > len(a)//2:\n",
    "            return key\n",
    "    return -1"
   ]
  },
  {
   "cell_type": "code",
   "execution_count": 10,
   "metadata": {},
   "outputs": [
    {
     "data": {
      "text/plain": [
       "-1"
      ]
     },
     "execution_count": 10,
     "metadata": {},
     "output_type": "execute_result"
    }
   ],
   "source": [
    "a = [2,3,9,2,2]\n",
    "b = [1,2,3,4]\n",
    "get_majority_element(b)"
   ]
  },
  {
   "cell_type": "code",
   "execution_count": 29,
   "metadata": {},
   "outputs": [],
   "source": [
    "c = [1,2,3,2,4]\n",
    "def num(c):\n",
    "    for element in (c):\n",
    "        if element == 2:\n",
    "             d = c.index(element)\n",
    "    return d"
   ]
  },
  {
   "cell_type": "code",
   "execution_count": 33,
   "metadata": {},
   "outputs": [
    {
     "data": {
      "text/plain": [
       "1"
      ]
     },
     "execution_count": 33,
     "metadata": {},
     "output_type": "execute_result"
    }
   ],
   "source": [
    "c = [1,2,2,3,4]\n",
    "d = c.index(2)\n",
    "d"
   ]
  },
  {
   "cell_type": "code",
   "execution_count": 31,
   "metadata": {},
   "outputs": [
    {
     "data": {
      "text/plain": [
       "[1, 2]"
      ]
     },
     "execution_count": 31,
     "metadata": {},
     "output_type": "execute_result"
    }
   ],
   "source": [
    "c[:2]"
   ]
  },
  {
   "cell_type": "code",
   "execution_count": 70,
   "metadata": {},
   "outputs": [],
   "source": [
    "import random\n",
    "def partition2(a, l, r):\n",
    "    x = a[l]\n",
    "    j = l\n",
    "    for i in range(l + 1, r+1):\n",
    "        if a[i] <= x:\n",
    "            j += 1\n",
    "            a[i], a[j] = a[j], a[i]\n",
    "    a[l], a[j] = a[j], a[l]\n",
    "    return j\n",
    "\n",
    "\n",
    "def randomized_quick_sort(a, l, r):\n",
    "    if l >= r:\n",
    "        return\n",
    "    k = random.randint(l, r)\n",
    "    a[l], a[k] = a[k], a[l]\n",
    "    #use partition3\n",
    "    m = partition2(a, l, r)\n",
    "    randomized_quick_sort(a, l, m - 1);\n",
    "    randomized_quick_sort(a, m + 1, r);\n"
   ]
  },
  {
   "cell_type": "code",
   "execution_count": 71,
   "metadata": {},
   "outputs": [],
   "source": [
    "a =[6,4,2,3,9,8,9,4,7,6,1]\n",
    "l = 0\n",
    "r = len(a)-1\n",
    "randomized_quick_sort(a, l, r)"
   ]
  },
  {
   "cell_type": "code",
   "execution_count": 72,
   "metadata": {},
   "outputs": [
    {
     "data": {
      "text/plain": [
       "[1, 2, 3, 4, 4, 6, 6, 7, 8, 9, 9]"
      ]
     },
     "execution_count": 72,
     "metadata": {},
     "output_type": "execute_result"
    }
   ],
   "source": [
    "a"
   ]
  },
  {
   "cell_type": "code",
   "execution_count": 300,
   "metadata": {},
   "outputs": [
    {
     "name": "stdout",
     "output_type": "stream",
     "text": [
      "8\n"
     ]
    }
   ],
   "source": [
    "arr = [6,4,2,3,9,8,6,9,4,7,6,1,6]\n",
    "l = 0\n",
    "r = len(arr)-1\n",
    "p = arr[-1]\n",
    "while l < r:\n",
    "    if arr[l] != p:\n",
    "        l+=1\n",
    "    if arr[r] == p:\n",
    "        r-=1\n",
    "    if arr[l] == p and arr[r]!=p:\n",
    "        arr[l], arr[r] = arr[r], arr[l]\n",
    "print(l) "
   ]
  },
  {
   "cell_type": "code",
   "execution_count": 293,
   "metadata": {},
   "outputs": [
    {
     "data": {
      "text/plain": [
       "[1, 4, 2, 3, 9, 8, 7, 9, 4, 6, 6, 6, 6]"
      ]
     },
     "execution_count": 293,
     "metadata": {},
     "output_type": "execute_result"
    }
   ],
   "source": [
    "arr"
   ]
  },
  {
   "cell_type": "code",
   "execution_count": 208,
   "metadata": {},
   "outputs": [
    {
     "data": {
      "text/plain": [
       "[1, 4, 2, 3, 9, 8, 9, 4, 7]"
      ]
     },
     "execution_count": 208,
     "metadata": {},
     "output_type": "execute_result"
    }
   ],
   "source": [
    "arr[:9]"
   ]
  },
  {
   "cell_type": "code",
   "execution_count": 57,
   "metadata": {},
   "outputs": [
    {
     "data": {
      "text/plain": [
       "6"
      ]
     },
     "execution_count": 57,
     "metadata": {},
     "output_type": "execute_result"
    }
   ],
   "source": [
    "arr[-1]"
   ]
  },
  {
   "cell_type": "code",
   "execution_count": 264,
   "metadata": {},
   "outputs": [],
   "source": [
    "def partition3(a, l, r):\n",
    "    #write your code here\n",
    "    x = a[l]\n",
    "    j = l\n",
    "\n",
    "    for i in range(l+1, r+1):\n",
    "        if a[i] < x:\n",
    "            j+=1\n",
    "            a[i], a[j] = a[j], a[i]\n",
    "    a[l], a[j] = a[j], a[l]\n",
    "\n",
    "\n",
    "    arr = a[j:]\n",
    "    m = 0\n",
    "    t = arr[m]\n",
    "    k = m\n",
    "    \n",
    "    for val in range(m+1, len(arr)):\n",
    "        if arr[val] == t:\n",
    "            k+=1\n",
    "            arr[val], arr[k] = arr[k], arr[val]\n",
    "    \n",
    "\n",
    "    a = a[:j]+ arr\n",
    "    \n",
    "    q = j+k\n",
    "    return j, q\n"
   ]
  },
  {
   "cell_type": "code",
   "execution_count": 265,
   "metadata": {},
   "outputs": [],
   "source": [
    "import random\n",
    "def randomized_quick_sort1(a, l, r):\n",
    "    if l >= r:\n",
    "        return\n",
    "    k = random.randint(l, r)\n",
    "    a[l], a[k] = a[k], a[l]\n",
    "    #use partition3\n",
    "    m1, m2 = partition3(a, l, r)\n",
    "    randomized_quick_sort1(a, l, m1-1);\n",
    "    randomized_quick_sort1(a, m2 + 1, r);"
   ]
  },
  {
   "cell_type": "code",
   "execution_count": 266,
   "metadata": {},
   "outputs": [
    {
     "data": {
      "text/plain": [
       "[1, 2, 3, 4, 9, 4, 6, 6, 7, 8, 9]"
      ]
     },
     "execution_count": 266,
     "metadata": {},
     "output_type": "execute_result"
    }
   ],
   "source": [
    "a =[6,4,2,3,9,8,9,4,7,6,1]\n",
    "l = 0\n",
    "r = len(a)-1\n",
    "randomized_quick_sort1(a, l, r)\n",
    "a"
   ]
  },
  {
   "cell_type": "code",
   "execution_count": 267,
   "metadata": {},
   "outputs": [
    {
     "data": {
      "text/plain": [
       "[2, 2, 3, 9, 9]"
      ]
     },
     "execution_count": 267,
     "metadata": {},
     "output_type": "execute_result"
    }
   ],
   "source": [
    "b = [2,3,9,2,9]\n",
    "l = 0\n",
    "r = len(b)-1\n",
    "partition3(b, l, r)\n",
    "randomized_quick_sort1(b,l,r)\n",
    "b"
   ]
  },
  {
   "cell_type": "code",
   "execution_count": null,
   "metadata": {},
   "outputs": [],
   "source": []
  },
  {
   "cell_type": "code",
   "execution_count": 268,
   "metadata": {},
   "outputs": [
    {
     "data": {
      "text/plain": [
       "(6, 8)"
      ]
     },
     "execution_count": 268,
     "metadata": {},
     "output_type": "execute_result"
    }
   ],
   "source": [
    "\n",
    "t = [6,4,2,3,9,8,6,9,4,7,6,3,1]\n",
    "\n",
    "l = 0\n",
    "r = len(t)-1\n",
    "partition3(t, l, r)\n"
   ]
  },
  {
   "cell_type": "code",
   "execution_count": 312,
   "metadata": {},
   "outputs": [
    {
     "data": {
      "text/plain": [
       "[1, 4, 2, 3, 6, 4, 6, 3, 6, 7, 9, 9, 8]"
      ]
     },
     "execution_count": 312,
     "metadata": {},
     "output_type": "execute_result"
    }
   ],
   "source": [
    "(t)"
   ]
  },
  {
   "cell_type": "code",
   "execution_count": 116,
   "metadata": {},
   "outputs": [
    {
     "data": {
      "text/plain": [
       "9"
      ]
     },
     "execution_count": 116,
     "metadata": {},
     "output_type": "execute_result"
    }
   ],
   "source": [
    "arr =[6,4,2,3,9,8,9,4,7,1,6]\n",
    "l = 0\n",
    "r = len(arr)-1\n",
    "\n",
    "# arr = [2,3,9,2,9]\n",
    "# l = 0\n",
    "# r = len(arr)-1\n",
    "p = arr[-1]\n",
    "while l < r:\n",
    "    while arr[r]==p:\n",
    "        r-=1\n",
    "    if arr[l] == p:\n",
    "        arr[l], arr[r] = arr[r], arr[l]\n",
    "    l+=1\n",
    "arr.index(p)        \n",
    "    "
   ]
  },
  {
   "cell_type": "code",
   "execution_count": 117,
   "metadata": {},
   "outputs": [
    {
     "data": {
      "text/plain": [
       "[1, 4, 2, 3, 9, 8, 9, 4, 7, 6, 6]"
      ]
     },
     "execution_count": 117,
     "metadata": {},
     "output_type": "execute_result"
    }
   ],
   "source": [
    "arr"
   ]
  },
  {
   "cell_type": "code",
   "execution_count": 128,
   "metadata": {},
   "outputs": [
    {
     "name": "stdout",
     "output_type": "stream",
     "text": [
      "3\n"
     ]
    },
    {
     "data": {
      "text/plain": [
       "[2, 3, 2, 9, 9]"
      ]
     },
     "execution_count": 128,
     "metadata": {},
     "output_type": "execute_result"
    }
   ],
   "source": [
    "# arr =[6,4,2,3,9,8,9,4,7,1,6]\n",
    "# l = 0\n",
    "# r = len(arr)-1\n",
    "\n",
    "arr = [2,3,9,2,9]\n",
    "l = 0\n",
    "r = len(arr)-1\n",
    "p = arr[-1]\n",
    "while l < r:\n",
    "    if arr[l] != p:\n",
    "        l+=1\n",
    "    if arr[r] == p:\n",
    "        r-=1\n",
    "    elif arr[l]==p and arr[r]==p:\n",
    "        r-=1\n",
    "        if arr[r] !=p:\n",
    "            arr[l], arr[r] = arr[r], arr[l]\n",
    "            l+=1\n",
    "    elif arr[l] ==p and arr[r]!=p:\n",
    "        arr[l], arr[r] = arr[r], arr[l]\n",
    "        \n",
    "print(arr.index(p))    \n",
    "arr"
   ]
  },
  {
   "cell_type": "code",
   "execution_count": 269,
   "metadata": {},
   "outputs": [],
   "source": [
    "#  while m < n:\n",
    "#         while arr[n] == p:\n",
    "#             n-=1\n",
    "#         if arr[m] == p:\n",
    "#             arr[m], arr[n] = arr[n], arr[m]\n",
    "\n",
    "#         m+=1\n",
    "\n",
    "#  while m < n:\n",
    "#         if arr[m] != s:\n",
    "#             m+=1\n",
    "#         if arr[n] == s:\n",
    "#             n-=1\n",
    "#         elif arr[m]==s and arr[n]==s:\n",
    "#             n-=1\n",
    "#             if arr[m] !=s:\n",
    "#                 arr[m], arr[n] = arr[n], arr[m]\n",
    "#                 m+=1\n",
    "#         elif arr[m] ==s and arr[n]!=s:\n",
    "#             arr[m], arr[n] = arr[n], arr[m]\n",
    "#         m+=1    "
   ]
  },
  {
   "cell_type": "code",
   "execution_count": 271,
   "metadata": {},
   "outputs": [],
   "source": [
    "# This is an implementation of the no of inversion while sorting an array using merge sort\n",
    "def get_number_of_inversions(A):\n",
    "    if len(A)<= 1:\n",
    "        return A, 0   # return the array and 0 if the size is one or less because it means it is already sorted\n",
    "    ave = len(A)//2\n",
    "\n",
    "    left, number_of_inversions_l = get_number_of_inversions(A[:ave]) # recursive call for the left half of the array\n",
    "    right, number_of_inversions_r = get_number_of_inversions(A[ave:]) # recursive call for the right half of the array\n",
    "    d, number_of_inversions  = merge_count(left,right) # merging the arrays from both halves\n",
    "    return d, (number_of_inversions + number_of_inversions_l + number_of_inversions_r)\n",
    "\n",
    "\n",
    "def merge_count(b,c):\n",
    "    d=[]\n",
    "    number_of_inversions = 0\n",
    "    while len(b)>0 and len(c)>0:\n",
    "        if b[0] <= c[0]:\n",
    "            d.append(b[0])\n",
    "            b.remove(b[0])\n",
    "        else:\n",
    "            d.append(c[0])\n",
    "            c.remove(c[0])\n",
    "            number_of_inversions += len(b)\n",
    "    if len(b) == 0:\n",
    "        d+=c\n",
    "    else:\n",
    "        d+=b\n",
    "    return d, number_of_inversions\n"
   ]
  },
  {
   "cell_type": "code",
   "execution_count": 272,
   "metadata": {},
   "outputs": [
    {
     "data": {
      "text/plain": [
       "([1, 3, 3, 4, 5, 6, 8, 9, 10, 11, 12, 14, 18, 20], 14)"
      ]
     },
     "execution_count": 272,
     "metadata": {},
     "output_type": "execute_result"
    }
   ],
   "source": [
    "A = [3,5,1,6,3,8,9,10,4,12,20,14,11,18]\n",
    "get_number_of_inversions(A)"
   ]
  },
  {
   "cell_type": "code",
   "execution_count": 283,
   "metadata": {},
   "outputs": [
    {
     "name": "stdout",
     "output_type": "stream",
     "text": [
      "[1, 2, 15, 7, 10, 15, 10, 15, 14, 2, 18, 16, 16, 1, 19, 19, 4, 3, 15, 12, 16, 14, 17, 9, 19, 13, 5, 3, 18, 4]\n"
     ]
    },
    {
     "data": {
      "text/plain": [
       "([1,\n",
       "  1,\n",
       "  2,\n",
       "  2,\n",
       "  3,\n",
       "  3,\n",
       "  4,\n",
       "  4,\n",
       "  5,\n",
       "  7,\n",
       "  9,\n",
       "  10,\n",
       "  10,\n",
       "  12,\n",
       "  13,\n",
       "  14,\n",
       "  14,\n",
       "  15,\n",
       "  15,\n",
       "  15,\n",
       "  15,\n",
       "  16,\n",
       "  16,\n",
       "  16,\n",
       "  17,\n",
       "  18,\n",
       "  18,\n",
       "  19,\n",
       "  19,\n",
       "  19],\n",
       " 181)"
      ]
     },
     "execution_count": 283,
     "metadata": {},
     "output_type": "execute_result"
    }
   ],
   "source": [
    "from random import randint\n",
    "A = [randint(0, 20) for i in range (30)]\n",
    "print(A)\n",
    "get_number_of_inversions(A)"
   ]
  },
  {
   "cell_type": "code",
   "execution_count": 294,
   "metadata": {},
   "outputs": [],
   "source": [
    "# Write a program to check if two arrays are equal\n",
    "def equal_arr(arr1, arr2):\n",
    "    if len(arr1) != len(arr2):\n",
    "        return False\n",
    "    \n",
    "    arr1.sort()\n",
    "    arr2.sort()\n",
    "    for i in range(len(arr1)):\n",
    "        if arr1[i] != arr2[i]:\n",
    "            return False\n",
    "        \n",
    "    return True\n",
    "        "
   ]
  },
  {
   "cell_type": "code",
   "execution_count": 296,
   "metadata": {},
   "outputs": [
    {
     "data": {
      "text/plain": [
       "True"
      ]
     },
     "execution_count": 296,
     "metadata": {},
     "output_type": "execute_result"
    }
   ],
   "source": [
    "a = [2,5,3,6]\n",
    "b = [5,6,3,2]\n",
    "c = [5,7,2,3]\n",
    "equal_arr(a, b)"
   ]
  },
  {
   "cell_type": "code",
   "execution_count": 305,
   "metadata": {},
   "outputs": [],
   "source": [
    "# Write a program that checks if two strings are anagrams\n",
    "#O(nlogn) time\n",
    "#O(n) space\n",
    "def is_anagram(str1, str2):\n",
    "    if len(str1) != len(str2):\n",
    "        return False\n",
    "    \n",
    "    str1 = sorted(str1)\n",
    "    str2 = sorted(str2)\n",
    "    \n",
    "    for i in range(len(str1)):\n",
    "        if str1[i] != str2[i]:\n",
    "            return False\n",
    "    return True"
   ]
  },
  {
   "cell_type": "code",
   "execution_count": 306,
   "metadata": {},
   "outputs": [
    {
     "data": {
      "text/plain": [
       "False"
      ]
     },
     "execution_count": 306,
     "metadata": {},
     "output_type": "execute_result"
    }
   ],
   "source": [
    "s = \"listen\"\n",
    "t = \"silent\"\n",
    "s1 = \"pappy\"\n",
    "s2 = \"happy\"\n",
    "\n",
    "is_anagram(s1,s2)"
   ]
  },
  {
   "cell_type": "code",
   "execution_count": 307,
   "metadata": {},
   "outputs": [],
   "source": [
    "#O(n) space\n",
    "#O(n) time\n",
    "def is_anagram1(str1, str2):\n",
    "    if len(str1) != len(str2):\n",
    "        return False\n",
    "    \n",
    "    d1 = {}\n",
    "    d2 = {}\n",
    "    for i in str1:\n",
    "        if i not in d1:\n",
    "            d1[i] = 1\n",
    "        else:\n",
    "            d1[i]+=1\n",
    "    for j in str2:\n",
    "        if j not in d2:\n",
    "            d2[j] = 1\n",
    "        else:\n",
    "            d2[j]+=1\n",
    "    for i in str1:\n",
    "        if d1[i] != d2[i]:\n",
    "            return False\n",
    "    return True"
   ]
  },
  {
   "cell_type": "code",
   "execution_count": 308,
   "metadata": {},
   "outputs": [
    {
     "data": {
      "text/plain": [
       "False"
      ]
     },
     "execution_count": 308,
     "metadata": {},
     "output_type": "execute_result"
    }
   ],
   "source": [
    "s = \"listen\"\n",
    "t = \"silent\"\n",
    "s1 = \"pappy\"\n",
    "s2 = \"happy\"\n",
    "\n",
    "is_anagram1(s1,s2)"
   ]
  },
  {
   "cell_type": "code",
   "execution_count": 309,
   "metadata": {},
   "outputs": [
    {
     "name": "stdout",
     "output_type": "stream",
     "text": [
      "1\n",
      "2\n",
      "3\n",
      "4\n"
     ]
    }
   ],
   "source": [
    "\n",
    "for i in range(1,5):\n",
    "    print(i)\n",
    "    "
   ]
  },
  {
   "cell_type": "code",
   "execution_count": 358,
   "metadata": {},
   "outputs": [],
   "source": [
    "# Trying A dp problem\n",
    "def DPChange(money, coins):\n",
    "    min_num_coins = [0] * (money+1)\n",
    "    for m in range(1, money+1):\n",
    "        min_num_coins[m] = float('inf')\n",
    "        for i in range(len(coins)):\n",
    "            if m >= coins[i]:\n",
    "                num_coins = min_num_coins[m-coins[i]] +1\n",
    "                if num_coins < min_num_coins[m]:\n",
    "                    min_num_coins[m] = num_coins\n",
    "    \n",
    "    return min_num_coins[m]\n",
    "        "
   ]
  },
  {
   "cell_type": "code",
   "execution_count": 357,
   "metadata": {},
   "outputs": [
    {
     "data": {
      "text/plain": [
       "1"
      ]
     },
     "execution_count": 357,
     "metadata": {},
     "output_type": "execute_result"
    }
   ],
   "source": [
    "money = 5\n",
    "coins = [3,5] \n",
    "DPChange(money, coins)\n"
   ]
  },
  {
   "cell_type": "code",
   "execution_count": 359,
   "metadata": {},
   "outputs": [
    {
     "data": {
      "text/plain": [
       "3"
      ]
     },
     "execution_count": 359,
     "metadata": {},
     "output_type": "execute_result"
    }
   ],
   "source": [
    "money = 40\n",
    "coins = [1,5,10,25,50]\n",
    "DPChange(money, coins)"
   ]
  },
  {
   "cell_type": "code",
   "execution_count": 360,
   "metadata": {},
   "outputs": [
    {
     "data": {
      "text/plain": [
       "8"
      ]
     },
     "execution_count": 360,
     "metadata": {},
     "output_type": "execute_result"
    }
   ],
   "source": [
    "money = 400\n",
    "coins = [1,5,10,25,50]\n",
    "DPChange(money, coins)"
   ]
  },
  {
   "cell_type": "code",
   "execution_count": null,
   "metadata": {},
   "outputs": [],
   "source": []
  },
  {
   "cell_type": "code",
   "execution_count": 362,
   "metadata": {},
   "outputs": [],
   "source": [
    "def Monsoon_umbrella(requirement, sizes):\n",
    "    min_num_umbrellas = [0] * (requirement+1)\n",
    "    for m in range(1, requirement+1):\n",
    "        min_num_umbrellas[m] = float('inf')\n",
    "        for i in range(len(sizes)):\n",
    "            if m >= sizes[i]:\n",
    "                num_umbrellas = min_num_umbrellas[m-sizes[i]] +1\n",
    "                if num_umbrellas < min_num_umbrellas[m]:\n",
    "                    min_num_umbrellas[m] = num_umbrellas\n",
    "    if min_num_umbrellas[m] == float('inf'):\n",
    "        return -1\n",
    "    else:\n",
    "        return min_num_umbrellas[m]"
   ]
  },
  {
   "cell_type": "code",
   "execution_count": 363,
   "metadata": {},
   "outputs": [
    {
     "data": {
      "text/plain": [
       "1"
      ]
     },
     "execution_count": 363,
     "metadata": {},
     "output_type": "execute_result"
    }
   ],
   "source": [
    "requirement = 5\n",
    "sizes = [3,5]\n",
    "Monsoon_umbrella(requirement, sizes)"
   ]
  },
  {
   "cell_type": "code",
   "execution_count": 364,
   "metadata": {},
   "outputs": [
    {
     "data": {
      "text/plain": [
       "2"
      ]
     },
     "execution_count": 364,
     "metadata": {},
     "output_type": "execute_result"
    }
   ],
   "source": [
    "requirement = 6\n",
    "sizes = [3,5]\n",
    "Monsoon_umbrella(requirement, sizes)"
   ]
  },
  {
   "cell_type": "code",
   "execution_count": 365,
   "metadata": {},
   "outputs": [
    {
     "data": {
      "text/plain": [
       "-1"
      ]
     },
     "execution_count": 365,
     "metadata": {},
     "output_type": "execute_result"
    }
   ],
   "source": [
    "requirement = 7\n",
    "sizes = [3,5]\n",
    "Monsoon_umbrella(requirement, sizes)"
   ]
  },
  {
   "cell_type": "code",
   "execution_count": 404,
   "metadata": {},
   "outputs": [],
   "source": [
    "# Capitalize the first letter of every word\n",
    "s = 'i am not going'\n",
    "#s.title()\n",
    "n = [word[0].upper() + word[1:] for word in s.split()]\n",
    "s = \" \".join(n)"
   ]
  },
  {
   "cell_type": "code",
   "execution_count": 405,
   "metadata": {},
   "outputs": [
    {
     "data": {
      "text/plain": [
       "'I Am Not Going'"
      ]
     },
     "execution_count": 405,
     "metadata": {},
     "output_type": "execute_result"
    }
   ],
   "source": [
    "s"
   ]
  },
  {
   "cell_type": "code",
   "execution_count": null,
   "metadata": {},
   "outputs": [],
   "source": []
  },
  {
   "cell_type": "code",
   "execution_count": 393,
   "metadata": {},
   "outputs": [
    {
     "name": "stdout",
     "output_type": "stream",
     "text": [
      "what is yor name? Tobi\n"
     ]
    }
   ],
   "source": []
  },
  {
   "cell_type": "code",
   "execution_count": 406,
   "metadata": {},
   "outputs": [
    {
     "data": {
      "text/plain": [
       "[2, 3, 4, 5, 6, 7, 8]"
      ]
     },
     "execution_count": 406,
     "metadata": {},
     "output_type": "execute_result"
    }
   ],
   "source": [
    "# get rid of duplicates in a list\n",
    "# Method one using the set data structure\n",
    "l = [2,3,4,5,5,6,7,8,8]\n",
    "\n",
    "list(set(l))"
   ]
  },
  {
   "cell_type": "code",
   "execution_count": 407,
   "metadata": {},
   "outputs": [
    {
     "data": {
      "text/plain": [
       "[2, 3, 4, 5, 6, 7, 8]"
      ]
     },
     "execution_count": 407,
     "metadata": {},
     "output_type": "execute_result"
    }
   ],
   "source": [
    "# Method 2 creating a new list\n",
    "l = [2,3,4,5,5,6,7,8,8]\n",
    "m = []\n",
    "for i in l:\n",
    "    if i not in m:\n",
    "        m.append(i)\n",
    "l = m\n",
    "l\n"
   ]
  },
  {
   "cell_type": "code",
   "execution_count": 408,
   "metadata": {},
   "outputs": [
    {
     "data": {
      "text/plain": [
       "[2, 3, 4, 5, 6, 7, 8]"
      ]
     },
     "execution_count": 408,
     "metadata": {},
     "output_type": "execute_result"
    }
   ],
   "source": [
    "l"
   ]
  },
  {
   "cell_type": "code",
   "execution_count": null,
   "metadata": {},
   "outputs": [],
   "source": []
  },
  {
   "cell_type": "code",
   "execution_count": 409,
   "metadata": {},
   "outputs": [],
   "source": [
    "# merge two sorted arrays\n",
    "def merge(b,c):\n",
    "    d = []\n",
    "    while len(b)> 0 and len(c)>0:\n",
    "        if b[0] <= c[0]:\n",
    "            d.append(b[0])\n",
    "            b.remove(b[0])\n",
    "        else:\n",
    "            d.append(c[0])\n",
    "            c.remove(c[0])\n",
    "    if len(b) == 0:\n",
    "        d+=c\n",
    "    else:\n",
    "        d+=b\n",
    "    return d\n"
   ]
  },
  {
   "cell_type": "code",
   "execution_count": 401,
   "metadata": {},
   "outputs": [],
   "source": [
    "b = [1,3,5,7,9]\n",
    "c = [2,4,6,8,10,12,14,18]\n",
    "merge(b,c)"
   ]
  },
  {
   "cell_type": "code",
   "execution_count": 403,
   "metadata": {},
   "outputs": [
    {
     "data": {
      "text/plain": [
       "[1, 2, 3, 4, 5, 6, 7, 8, 9, 10, 12, 14, 18]"
      ]
     },
     "execution_count": 403,
     "metadata": {},
     "output_type": "execute_result"
    }
   ],
   "source": []
  },
  {
   "cell_type": "code",
   "execution_count": 410,
   "metadata": {},
   "outputs": [],
   "source": [
    "#Sort an array with only two elements\n",
    "def segregate_elements(arr):\n",
    "    left = 0\n",
    "    right = len(arr)-1\n",
    "    while left < right:\n",
    "        if arr[left] == 1:\n",
    "            arr[left], arr[right] = arr[right], arr[left]\n",
    "            right-=1\n",
    "        else:\n",
    "            left+=1\n",
    "    return arr\n",
    "    "
   ]
  },
  {
   "cell_type": "code",
   "execution_count": 411,
   "metadata": {},
   "outputs": [
    {
     "data": {
      "text/plain": [
       "[0, 1, 0, 1, 1, 1, 1, 1, 0, 1]"
      ]
     },
     "execution_count": 411,
     "metadata": {},
     "output_type": "execute_result"
    }
   ],
   "source": [
    "from random import randint\n",
    "arr = [randint(0,1) for i in range(10)]\n",
    "arr"
   ]
  },
  {
   "cell_type": "code",
   "execution_count": 412,
   "metadata": {},
   "outputs": [
    {
     "data": {
      "text/plain": [
       "[0, 0, 0, 1, 1, 1, 1, 1, 1, 1]"
      ]
     },
     "execution_count": 412,
     "metadata": {},
     "output_type": "execute_result"
    }
   ],
   "source": [
    "segregate_elements(arr)"
   ]
  },
  {
   "cell_type": "code",
   "execution_count": 435,
   "metadata": {},
   "outputs": [],
   "source": [
    "# primitive calculator problem\n",
    "def prim_calc(n):\n",
    "    a = [0]*(n+1)\n",
    "    #a[1] = 1\n",
    "    for i in range(1,n+1):\n",
    "        a[i] = a[i-1] +1\n",
    "        if i % 2 == 0:\n",
    "            a[i] = min(a[i], a[i//2] + 1)\n",
    "        if i % 3 == 0:\n",
    "            a[i] = min(a[i], a[i//3] + 1)\n",
    "    \n",
    "    result = [1] * a[-1]\n",
    "    for i in range(1, a[-1]):\n",
    "        result[-i] = n\n",
    "        if a[n-1] == a[n] - 1:\n",
    "            n-=1\n",
    "        elif n %2 == 0 and (a[n//2] == a[n] - 1):\n",
    "            n//=2\n",
    "        else:\n",
    "            n//=3\n",
    "    return a[-1]-1 , result"
   ]
  },
  {
   "cell_type": "code",
   "execution_count": 438,
   "metadata": {},
   "outputs": [
    {
     "data": {
      "text/plain": [
       "(0, [1])"
      ]
     },
     "execution_count": 438,
     "metadata": {},
     "output_type": "execute_result"
    }
   ],
   "source": [
    "prim_calc(1)"
   ]
  },
  {
   "cell_type": "code",
   "execution_count": 439,
   "metadata": {},
   "outputs": [
    {
     "data": {
      "text/plain": [
       "(3, [1, 3, 9, 10])"
      ]
     },
     "execution_count": 439,
     "metadata": {},
     "output_type": "execute_result"
    }
   ],
   "source": [
    "prim_calc(10)"
   ]
  },
  {
   "cell_type": "code",
   "execution_count": 440,
   "metadata": {},
   "outputs": [
    {
     "data": {
      "text/plain": [
       "(3, [1, 3, 4, 5])"
      ]
     },
     "execution_count": 440,
     "metadata": {},
     "output_type": "execute_result"
    }
   ],
   "source": [
    "prim_calc(5)"
   ]
  },
  {
   "cell_type": "code",
   "execution_count": 445,
   "metadata": {},
   "outputs": [
    {
     "data": {
      "text/plain": [
       "(14,\n",
       " [1, 3, 9, 10, 11, 33, 99, 297, 891, 2673, 8019, 16038, 16039, 48117, 96234])"
      ]
     },
     "execution_count": 445,
     "metadata": {},
     "output_type": "execute_result"
    }
   ],
   "source": [
    "prim_calc(96234)"
   ]
  },
  {
   "cell_type": "code",
   "execution_count": 444,
   "metadata": {},
   "outputs": [
    {
     "data": {
      "text/plain": [
       "(4, [1, 3, 6, 7, 14])"
      ]
     },
     "execution_count": 444,
     "metadata": {},
     "output_type": "execute_result"
    }
   ],
   "source": [
    "prim_calc(14)"
   ]
  },
  {
   "cell_type": "code",
   "execution_count": 446,
   "metadata": {},
   "outputs": [
    {
     "data": {
      "text/plain": [
       "(7, [1, 3, 4, 5, 15, 45, 46, 138])"
      ]
     },
     "execution_count": 446,
     "metadata": {},
     "output_type": "execute_result"
    }
   ],
   "source": [
    "prim_calc(138)"
   ]
  },
  {
   "cell_type": "code",
   "execution_count": null,
   "metadata": {},
   "outputs": [],
   "source": []
  },
  {
   "cell_type": "code",
   "execution_count": 448,
   "metadata": {},
   "outputs": [],
   "source": [
    "import numpy as np\n",
    "matrix = np.zeros((11,11))"
   ]
  },
  {
   "cell_type": "code",
   "execution_count": 449,
   "metadata": {},
   "outputs": [
    {
     "data": {
      "text/plain": [
       "array([[0., 0., 0., 0., 0., 0., 0., 0., 0., 0., 0.],\n",
       "       [0., 0., 0., 0., 0., 0., 0., 0., 0., 0., 0.],\n",
       "       [0., 0., 0., 0., 0., 0., 0., 0., 0., 0., 0.],\n",
       "       [0., 0., 0., 0., 0., 0., 0., 0., 0., 0., 0.],\n",
       "       [0., 0., 0., 0., 0., 0., 0., 0., 0., 0., 0.],\n",
       "       [0., 0., 0., 0., 0., 0., 0., 0., 0., 0., 0.],\n",
       "       [0., 0., 0., 0., 0., 0., 0., 0., 0., 0., 0.],\n",
       "       [0., 0., 0., 0., 0., 0., 0., 0., 0., 0., 0.],\n",
       "       [0., 0., 0., 0., 0., 0., 0., 0., 0., 0., 0.],\n",
       "       [0., 0., 0., 0., 0., 0., 0., 0., 0., 0., 0.],\n",
       "       [0., 0., 0., 0., 0., 0., 0., 0., 0., 0., 0.]])"
      ]
     },
     "execution_count": 449,
     "metadata": {},
     "output_type": "execute_result"
    }
   ],
   "source": [
    "matrix"
   ]
  },
  {
   "cell_type": "code",
   "execution_count": 451,
   "metadata": {},
   "outputs": [],
   "source": [
    "matrix[:,0] = list(range(11))"
   ]
  },
  {
   "cell_type": "code",
   "execution_count": 452,
   "metadata": {},
   "outputs": [
    {
     "data": {
      "text/plain": [
       "array([[ 0.,  0.,  0.,  0.,  0.,  0.,  0.,  0.,  0.,  0.,  0.],\n",
       "       [ 1.,  0.,  0.,  0.,  0.,  0.,  0.,  0.,  0.,  0.,  0.],\n",
       "       [ 2.,  0.,  0.,  0.,  0.,  0.,  0.,  0.,  0.,  0.,  0.],\n",
       "       [ 3.,  0.,  0.,  0.,  0.,  0.,  0.,  0.,  0.,  0.,  0.],\n",
       "       [ 4.,  0.,  0.,  0.,  0.,  0.,  0.,  0.,  0.,  0.,  0.],\n",
       "       [ 5.,  0.,  0.,  0.,  0.,  0.,  0.,  0.,  0.,  0.,  0.],\n",
       "       [ 6.,  0.,  0.,  0.,  0.,  0.,  0.,  0.,  0.,  0.,  0.],\n",
       "       [ 7.,  0.,  0.,  0.,  0.,  0.,  0.,  0.,  0.,  0.,  0.],\n",
       "       [ 8.,  0.,  0.,  0.,  0.,  0.,  0.,  0.,  0.,  0.,  0.],\n",
       "       [ 9.,  0.,  0.,  0.,  0.,  0.,  0.,  0.,  0.,  0.,  0.],\n",
       "       [10.,  0.,  0.,  0.,  0.,  0.,  0.,  0.,  0.,  0.,  0.]])"
      ]
     },
     "execution_count": 452,
     "metadata": {},
     "output_type": "execute_result"
    }
   ],
   "source": [
    "matrix"
   ]
  },
  {
   "cell_type": "code",
   "execution_count": 453,
   "metadata": {},
   "outputs": [],
   "source": [
    "matrix[0, :] = list(range(11))"
   ]
  },
  {
   "cell_type": "code",
   "execution_count": 454,
   "metadata": {},
   "outputs": [
    {
     "data": {
      "text/plain": [
       "array([[ 0.,  1.,  2.,  3.,  4.,  5.,  6.,  7.,  8.,  9., 10.],\n",
       "       [ 1.,  0.,  0.,  0.,  0.,  0.,  0.,  0.,  0.,  0.,  0.],\n",
       "       [ 2.,  0.,  0.,  0.,  0.,  0.,  0.,  0.,  0.,  0.,  0.],\n",
       "       [ 3.,  0.,  0.,  0.,  0.,  0.,  0.,  0.,  0.,  0.,  0.],\n",
       "       [ 4.,  0.,  0.,  0.,  0.,  0.,  0.,  0.,  0.,  0.,  0.],\n",
       "       [ 5.,  0.,  0.,  0.,  0.,  0.,  0.,  0.,  0.,  0.,  0.],\n",
       "       [ 6.,  0.,  0.,  0.,  0.,  0.,  0.,  0.,  0.,  0.,  0.],\n",
       "       [ 7.,  0.,  0.,  0.,  0.,  0.,  0.,  0.,  0.,  0.,  0.],\n",
       "       [ 8.,  0.,  0.,  0.,  0.,  0.,  0.,  0.,  0.,  0.,  0.],\n",
       "       [ 9.,  0.,  0.,  0.,  0.,  0.,  0.,  0.,  0.,  0.,  0.],\n",
       "       [10.,  0.,  0.,  0.,  0.,  0.,  0.,  0.,  0.,  0.,  0.]])"
      ]
     },
     "execution_count": 454,
     "metadata": {},
     "output_type": "execute_result"
    }
   ],
   "source": [
    "matrix"
   ]
  },
  {
   "cell_type": "code",
   "execution_count": 516,
   "metadata": {},
   "outputs": [],
   "source": [
    "def edit_distance(a, b):\n",
    "    matrix = np.zeros((len(a) + 1, len(b)+ 1))\n",
    "    matrix[:, 0] = list(range(len(a) + 1))\n",
    "    matrix[0, :] = list(range(len(b) + 1))\n",
    "\n",
    "    for i in range(1, len(a) + 1):\n",
    "        for j in range (1, len(b) + 1):\n",
    "            insertion = matrix[i, j-1] + 1\n",
    "            deletion = matrix[i-1, j] + 1\n",
    "            match = matrix[i-1, j-1]\n",
    "            mismatch = matrix[i-1, j-1] + 1\n",
    "            if a[i-1] == b[j-1]:\n",
    "                matrix[i,j] = min(insertion, deletion, match)\n",
    "            else:\n",
    "                matrix[i,j] = min(insertion, deletion, mismatch)\n",
    "    return matrix[i, j]\n",
    "        "
   ]
  },
  {
   "cell_type": "code",
   "execution_count": 491,
   "metadata": {},
   "outputs": [
    {
     "data": {
      "text/plain": [
       "5.0"
      ]
     },
     "execution_count": 491,
     "metadata": {},
     "output_type": "execute_result"
    }
   ],
   "source": [
    "a = \"DISTANCE\"\n",
    "b = \"EDITING\"\n",
    "edit_distance(a, b)"
   ]
  },
  {
   "cell_type": "code",
   "execution_count": 493,
   "metadata": {},
   "outputs": [
    {
     "data": {
      "text/plain": [
       "2.0"
      ]
     },
     "execution_count": 493,
     "metadata": {},
     "output_type": "execute_result"
    }
   ],
   "source": [
    "a ='ports'\n",
    "b = 'sport'\n",
    "edit_distance(a, b)"
   ]
  },
  {
   "cell_type": "code",
   "execution_count": 517,
   "metadata": {},
   "outputs": [
    {
     "data": {
      "text/plain": [
       "4.0"
      ]
     },
     "execution_count": 517,
     "metadata": {},
     "output_type": "execute_result"
    }
   ],
   "source": [
    "a = 'silent'\n",
    "b = 'listen'\n",
    "edit_distance(a,b)\n"
   ]
  },
  {
   "cell_type": "code",
   "execution_count": 512,
   "metadata": {},
   "outputs": [],
   "source": [
    "def meand(arr):\n",
    "    neg = []\n",
    "    pos = []\n",
    "    result = []\n",
    "    count = 0\n",
    "    for i in arr:\n",
    "        if i >= 0:\n",
    "            pos.append(i)\n",
    "        else:\n",
    "            neg.append(i)\n",
    "    pos = sorted(pos, reverse=True)\n",
    "    neg.sort()\n",
    "    if len(neg) < len(pos):\n",
    "        for i in range(len(neg)):\n",
    "            result.append(pos[i])\n",
    "            count+=1\n",
    "            result.append(neg[i])\n",
    "        result+= pos[count:]\n",
    "    elif len(pos) < len(neg):\n",
    "        for i in range(len(pos)):\n",
    "            result.append(pos[i])\n",
    "            result.append(neg[i])\n",
    "            count+=1\n",
    "        result+= neg[count:]\n",
    "    else:\n",
    "        for i in range(len(pos)):\n",
    "            result.append(pos[i])\n",
    "            result.append(neg[i])\n",
    "    return result"
   ]
  },
  {
   "cell_type": "code",
   "execution_count": 518,
   "metadata": {},
   "outputs": [
    {
     "data": {
      "text/plain": [
       "[3, -5, 2, -1, 1]"
      ]
     },
     "execution_count": 518,
     "metadata": {},
     "output_type": "execute_result"
    }
   ],
   "source": [
    "meand([-1,1,2,3,-5])"
   ]
  },
  {
   "cell_type": "code",
   "execution_count": 519,
   "metadata": {},
   "outputs": [
    {
     "data": {
      "text/plain": [
       "[6, -6, 4, -3, -1]"
      ]
     },
     "execution_count": 519,
     "metadata": {},
     "output_type": "execute_result"
    }
   ],
   "source": [
    "meand([-1,4,6,-6,-3])"
   ]
  },
  {
   "cell_type": "code",
   "execution_count": 522,
   "metadata": {},
   "outputs": [
    {
     "data": {
      "text/plain": [
       "[10, -8, 5, -6, 4, -3, 1, -2]"
      ]
     },
     "execution_count": 522,
     "metadata": {},
     "output_type": "execute_result"
    }
   ],
   "source": [
    "meand([-2,5,-8,10,-6,1,4,-3])"
   ]
  },
  {
   "cell_type": "code",
   "execution_count": 524,
   "metadata": {},
   "outputs": [],
   "source": [
    "# Order check\n",
    "def order_check(arr):\n",
    "    newarr = sorted(arr)\n",
    "    count = 0\n",
    "    for i in range(len(arr)):\n",
    "        if arr[i]!= newarr[i]:\n",
    "            count+=1\n",
    "    return count"
   ]
  },
  {
   "cell_type": "code",
   "execution_count": 526,
   "metadata": {},
   "outputs": [
    {
     "data": {
      "text/plain": [
       "3"
      ]
     },
     "execution_count": 526,
     "metadata": {},
     "output_type": "execute_result"
    }
   ],
   "source": [
    "arr = [1,1,3,3,4,1]\n",
    "order_check(arr)"
   ]
  },
  {
   "cell_type": "code",
   "execution_count": 527,
   "metadata": {},
   "outputs": [
    {
     "data": {
      "text/plain": [
       "4"
      ]
     },
     "execution_count": 527,
     "metadata": {},
     "output_type": "execute_result"
    }
   ],
   "source": [
    "arr = [2,1,4,4,3,6]\n",
    "order_check(arr)"
   ]
  },
  {
   "cell_type": "code",
   "execution_count": null,
   "metadata": {},
   "outputs": [],
   "source": []
  },
  {
   "cell_type": "code",
   "execution_count": 529,
   "metadata": {},
   "outputs": [],
   "source": [
    "def optimal_weight(W, w):\n",
    "    matrix = np.zeros((W + 1, n+ 1))\n",
    "    # matrix[:, 0] = list(range(W + 1))\n",
    "    # matrix[0, :] = list(range(n + 1))\n",
    "    for i in range(1, n+1):\n",
    "        for j in range(1, W+1):\n",
    "            matrix[j, i] = matrix[j,i-1]\n",
    "            if w[i-1] <= j:\n",
    "                val = matrix[j- w[i-1], i-1] + w[i-1]\n",
    "                if matrix[j, i] < val:\n",
    "                    matrix[j, i] = val\n",
    "\n",
    "    return int(matrix[W, n])"
   ]
  },
  {
   "cell_type": "code",
   "execution_count": 530,
   "metadata": {},
   "outputs": [
    {
     "data": {
      "text/plain": [
       "9"
      ]
     },
     "execution_count": 530,
     "metadata": {},
     "output_type": "execute_result"
    }
   ],
   "source": [
    "#optimal_weight(W, w)\n",
    "n = 3\n",
    "W = 10\n",
    "w =[1,4,8]\n",
    "optimal_weight(W, w)"
   ]
  },
  {
   "cell_type": "code",
   "execution_count": 531,
   "metadata": {},
   "outputs": [],
   "source": [
    "import math\n",
    "def evalt(a, b, op):\n",
    "    if op == '+':\n",
    "        return a + b\n",
    "    elif op == '-':\n",
    "        return a - b\n",
    "    elif op == '*':\n",
    "        return a * b\n",
    "    else:\n",
    "        assert False"
   ]
  },
  {
   "cell_type": "code",
   "execution_count": 532,
   "metadata": {},
   "outputs": [],
   "source": [
    "#Building an algorithm for placing parenthesis to get maximum output"
   ]
  },
  {
   "cell_type": "code",
   "execution_count": 533,
   "metadata": {},
   "outputs": [],
   "source": [
    "def min_max(i,j, op, m,M) :\n",
    "        minimum = math.inf\n",
    "        maximum = -math.inf\n",
    "        for k in range(i, j):\n",
    "            a = evalt(M[i][k], M[k+1][j],op[k])\n",
    "            b = evalt(M[i][k], m[k+1][j], op[k])\n",
    "            c = evalt(m[i][k], M[k+1][j], op[k])\n",
    "            d = evalt(m[i][k], m[k+1][j], op[k])\n",
    "            minimum = min(minimum, a,b,c,d)\n",
    "            maximum = max(maximum,a,d,c,d)\n",
    "\n",
    "        return (minimum,maximum)"
   ]
  },
  {
   "cell_type": "code",
   "execution_count": 534,
   "metadata": {},
   "outputs": [],
   "source": [
    "#Continued Building an algorithm for placing parenthesis to get maximum output"
   ]
  },
  {
   "cell_type": "code",
   "execution_count": 535,
   "metadata": {},
   "outputs": [],
   "source": [
    "def get_maximum_value(dataset):\n",
    "    op = []\n",
    "    num = []\n",
    "    # n = int((len(dataset)-1)//2)\n",
    "    for i in range(len(dataset)):\n",
    "        if i % 2 == 0:\n",
    "            num.append(int(dataset[i]))\n",
    "        else:\n",
    "            op.append(dataset[i])\n",
    "    n = len(num)\n",
    "    m = [[0 for i in range(n)] for j in range(n)]\n",
    "    M = [[0 for i in range(n)] for j in range(n)]\n",
    "    for i in range(n):\n",
    "        m[i][i] = num[i]\n",
    "        M[i][i] = num[i]\n",
    "    for s in range(1, n):\n",
    "        for i in range(n-s):\n",
    "            j = i+s\n",
    "            m[i][j], M[i][j] = min_max(i, j, op, m, M)\n",
    "    # print(num)\n",
    "    # print(op)\n",
    "    return M[0][n-1]"
   ]
  },
  {
   "cell_type": "code",
   "execution_count": 536,
   "metadata": {},
   "outputs": [],
   "source": [
    "def palin(string):\n",
    "    l = 0\n",
    "    r = len(string)-1\n",
    "    \n",
    "    while l <= r:\n",
    "        if string[l] != string[r]:\n",
    "            return False\n",
    "        else:\n",
    "            l+=1\n",
    "            r-=1\n",
    "            \n",
    "    return True\n",
    "    \n",
    "        "
   ]
  },
  {
   "cell_type": "code",
   "execution_count": 544,
   "metadata": {},
   "outputs": [
    {
     "data": {
      "text/plain": [
       "True"
      ]
     },
     "execution_count": 544,
     "metadata": {},
     "output_type": "execute_result"
    }
   ],
   "source": [
    "palin('mom')"
   ]
  },
  {
   "cell_type": "code",
   "execution_count": 545,
   "metadata": {},
   "outputs": [
    {
     "data": {
      "text/plain": [
       "True"
      ]
     },
     "execution_count": 545,
     "metadata": {},
     "output_type": "execute_result"
    }
   ],
   "source": [
    "palin('level')"
   ]
  },
  {
   "cell_type": "code",
   "execution_count": 546,
   "metadata": {},
   "outputs": [
    {
     "data": {
      "text/plain": [
       "False"
      ]
     },
     "execution_count": 546,
     "metadata": {},
     "output_type": "execute_result"
    }
   ],
   "source": [
    "palin('kite')"
   ]
  },
  {
   "cell_type": "code",
   "execution_count": 547,
   "metadata": {},
   "outputs": [
    {
     "data": {
      "text/plain": [
       "False"
      ]
     },
     "execution_count": 547,
     "metadata": {},
     "output_type": "execute_result"
    }
   ],
   "source": [
    "palin('kitten')\n"
   ]
  },
  {
   "cell_type": "code",
   "execution_count": null,
   "metadata": {},
   "outputs": [],
   "source": []
  },
  {
   "cell_type": "code",
   "execution_count": null,
   "metadata": {},
   "outputs": [],
   "source": []
  },
  {
   "cell_type": "code",
   "execution_count": null,
   "metadata": {},
   "outputs": [],
   "source": []
  }
 ],
 "metadata": {
  "kernelspec": {
   "display_name": "Python 3",
   "language": "python",
   "name": "python3"
  },
  "language_info": {
   "codemirror_mode": {
    "name": "ipython",
    "version": 3
   },
   "file_extension": ".py",
   "mimetype": "text/x-python",
   "name": "python",
   "nbconvert_exporter": "python",
   "pygments_lexer": "ipython3",
   "version": "3.7.7"
  }
 },
 "nbformat": 4,
 "nbformat_minor": 4
}
